{
 "cells": [
  {
   "cell_type": "markdown",
   "id": "e283e871",
   "metadata": {},
   "source": [
    "# Importing Modules and CSV files"
   ]
  },
  {
   "cell_type": "code",
   "execution_count": 1,
   "id": "04299de8",
   "metadata": {},
   "outputs": [],
   "source": [
    "import pandas as pd\n",
    "from sqlalchemy import create_engine\n",
    "from config import user\n",
    "from config import password2\n"
   ]
  },
  {
   "cell_type": "code",
   "execution_count": 2,
   "id": "62fa151e",
   "metadata": {},
   "outputs": [],
   "source": [
    "year_2022=pd.read_csv(\"./Resources/2022.csv\")\n",
    "year_2021=pd.read_csv(\"./Resources/2021.csv\")\n",
    "year_2020=pd.read_csv(\"./Resources/2020.csv\")\n",
    "year_2019=pd.read_csv(\"./Resources/2019.csv\")\n",
    "year_2018=pd.read_csv(\"./Resources/2018.csv\")"
   ]
  },
  {
   "cell_type": "markdown",
   "id": "5f0b1275",
   "metadata": {},
   "source": [
    "# Data Cleaning"
   ]
  },
  {
   "cell_type": "markdown",
   "id": "9ab80bab",
   "metadata": {},
   "source": [
    "YEAR 2022"
   ]
  },
  {
   "cell_type": "code",
   "execution_count": 3,
   "id": "9b43e7ff",
   "metadata": {},
   "outputs": [],
   "source": [
    "year_2022.drop(\"RANK\",inplace=True,axis=1)\n",
    "year_2022.drop(\"Whisker-high\",inplace=True,axis=1)\n",
    "year_2022.drop(\"Whisker-low\",inplace=True,axis=1)\n",
    "year_2022.drop(\"Dystopia (1.83) + residual\",inplace=True,axis=1)\n",
    "year_2022.drop(\"Explained by: Generosity\",inplace=True,axis=1)\n",
    "year_2022.drop(\"Explained by: Perceptions of corruption\",inplace=True,axis=1)"
   ]
  },
  {
   "cell_type": "code",
   "execution_count": 4,
   "id": "241e2c5a",
   "metadata": {},
   "outputs": [],
   "source": [
    "\n",
    "year_2022 = year_2022.rename(columns={'Country': 'country', 'Happiness score': 'happiness_score','Explained by: GDP per capita': 'gpd_per_capita','Explained by: Social support':'social_support','Explained by: Healthy life expectancy': 'healthy_life_expectancy','Explained by: Freedom to make life choices': 'freedom_to_make_life_choices'})"
   ]
  },
  {
   "cell_type": "code",
   "execution_count": 5,
   "id": "3386b747",
   "metadata": {},
   "outputs": [],
   "source": [
    "year_2022[\"gpd_per_capita\"] = year_2022[\"gpd_per_capita\"].str.replace(\",\", \".\")\n",
    "year_2022[\"social_support\"] = year_2022[\"social_support\"].str.replace(\",\", \".\")\n",
    "year_2022[\"healthy_life_expectancy\"] = year_2022[\"healthy_life_expectancy\"].str.replace(\",\", \".\")\n",
    "year_2022[\"freedom_to_make_life_choices\"] = year_2022[\"freedom_to_make_life_choices\"].str.replace(\",\", \".\")\n",
    "\n"
   ]
  },
  {
   "cell_type": "markdown",
   "id": "d0cb53b3",
   "metadata": {},
   "source": [
    "YEAR 2021"
   ]
  },
  {
   "cell_type": "code",
   "execution_count": 6,
   "id": "5d07ce2c",
   "metadata": {},
   "outputs": [],
   "source": [
    "year_2021.drop(\"Regional indicator\",inplace=True,axis=1)\n",
    "year_2021.drop(\"Standard error of ladder score\",inplace=True,axis=1)\n",
    "year_2021.drop(\"upperwhisker\",inplace=True,axis=1)\n",
    "year_2021.drop(\"lowerwhisker\",inplace=True,axis=1)\n",
    "year_2021.drop(\"Logged GDP per capita\",inplace=True,axis=1)\n",
    "year_2021.drop(\"Social support\",inplace=True,axis=1)\n",
    "year_2021.drop(\"Healthy life expectancy\",inplace=True,axis=1)\n",
    "year_2021.drop(\"Freedom to make life choices\",inplace=True,axis=1)\n",
    "year_2021.drop(\"Generosity\",inplace=True,axis=1)\n",
    "year_2021.drop(\"Perceptions of corruption\",inplace=True,axis=1)\n",
    "year_2021.drop(\"Ladder score in Dystopia\",inplace=True,axis=1)\n",
    "year_2021.drop(\"Explained by: Generosity\",inplace=True,axis=1)\n",
    "year_2021.drop(\"Explained by: Perceptions of corruption\",inplace=True,axis=1)\n",
    "year_2021.drop(\"Dystopia + residual\",inplace=True,axis=1)\n",
    "\n"
   ]
  },
  {
   "cell_type": "code",
   "execution_count": 7,
   "id": "ab12d98f",
   "metadata": {},
   "outputs": [],
   "source": [
    "\n",
    "year_2021 = year_2021.rename(columns={'Country name': 'country', 'Ladder score': 'happiness_score','Explained by: Log GDP per capita': 'gpd_per_capita','Explained by: Social support':'social_support','Explained by: Healthy life expectancy': 'healthy_life_expectancy','Explained by: Freedom to make life choices': 'freedom_to_make_life_choices'})"
   ]
  },
  {
   "cell_type": "markdown",
   "id": "425215cd",
   "metadata": {},
   "source": [
    "YEAR 2020"
   ]
  },
  {
   "cell_type": "code",
   "execution_count": 8,
   "id": "65c17c5c",
   "metadata": {},
   "outputs": [],
   "source": [
    "year_2020.drop(\"Regional indicator\",inplace=True,axis=1)\n",
    "year_2020.drop(\"Standard error of ladder score\",inplace=True,axis=1)\n",
    "year_2020.drop(\"upperwhisker\",inplace=True,axis=1)\n",
    "year_2020.drop(\"lowerwhisker\",inplace=True,axis=1)\n",
    "year_2020.drop(\"Logged GDP per capita\",inplace=True,axis=1)\n",
    "year_2020.drop(\"Social support\",inplace=True,axis=1)\n",
    "year_2020.drop(\"Healthy life expectancy\",inplace=True,axis=1)\n",
    "year_2020.drop(\"Freedom to make life choices\",inplace=True,axis=1)\n",
    "year_2020.drop(\"Generosity\",inplace=True,axis=1)\n",
    "year_2020.drop(\"Perceptions of corruption\",inplace=True,axis=1)\n",
    "year_2020.drop(\"Ladder score in Dystopia\",inplace=True,axis=1)\n",
    "year_2020.drop(\"Explained by: Generosity\",inplace=True,axis=1)\n",
    "year_2020.drop(\"Explained by: Perceptions of corruption\",inplace=True,axis=1)\n",
    "year_2020.drop(\"Dystopia + residual\",inplace=True,axis=1)"
   ]
  },
  {
   "cell_type": "code",
   "execution_count": 9,
   "id": "46beed99",
   "metadata": {},
   "outputs": [],
   "source": [
    "\n",
    "year_2020 = year_2020.rename(columns={'Country name': 'country', 'Ladder score': 'happiness_score','Explained by: Log GDP per capita': 'gpd_per_capita','Explained by: Social support':'social_support','Explained by: Healthy life expectancy': 'healthy_life_expectancy','Explained by: Freedom to make life choices': 'freedom_to_make_life_choices'})"
   ]
  },
  {
   "cell_type": "markdown",
   "id": "f3c2002a",
   "metadata": {},
   "source": [
    "YEAR 2019"
   ]
  },
  {
   "cell_type": "code",
   "execution_count": 10,
   "id": "3781e385",
   "metadata": {},
   "outputs": [],
   "source": [
    "year_2019.drop(\"Overall rank\",inplace=True,axis=1)\n",
    "year_2019.drop(\"Generosity\",inplace=True,axis=1)\n",
    "year_2019.drop(\"Perceptions of corruption\",inplace=True,axis=1)\n"
   ]
  },
  {
   "cell_type": "code",
   "execution_count": 11,
   "id": "3c516685",
   "metadata": {},
   "outputs": [],
   "source": [
    "\n",
    "year_2019 = year_2019.rename(columns={'Country or region': 'country', 'Score': 'happiness_score','GDP per capita': 'gpd_per_capita','Social support':'social_support','Healthy life expectancy': 'healthy_life_expectancy','Freedom to make life choices': 'freedom_to_make_life_choices'})"
   ]
  },
  {
   "cell_type": "code",
   "execution_count": null,
   "id": "55797e75",
   "metadata": {},
   "outputs": [],
   "source": [
    "\n"
   ]
  },
  {
   "cell_type": "code",
   "execution_count": null,
   "id": "4d0e042b",
   "metadata": {},
   "outputs": [],
   "source": []
  },
  {
   "cell_type": "code",
   "execution_count": null,
   "id": "258d06b6",
   "metadata": {},
   "outputs": [],
   "source": []
  },
  {
   "cell_type": "code",
   "execution_count": null,
   "id": "2e9fccb9",
   "metadata": {},
   "outputs": [],
   "source": []
  },
  {
   "cell_type": "code",
   "execution_count": null,
   "id": "f710fbb7",
   "metadata": {},
   "outputs": [],
   "source": []
  },
  {
   "cell_type": "markdown",
   "id": "9cface81",
   "metadata": {},
   "source": [
    "# Create Database Connection"
   ]
  },
  {
   "cell_type": "code",
   "execution_count": 12,
   "id": "8f9eafa7",
   "metadata": {},
   "outputs": [],
   "source": [
    "protocol=\"postgresql\"\n",
    "username=user\n",
    "password=password2\n",
    "host=\"localhost\"\n",
    "port=5432\n",
    "database_name=\"World_Happiness\"\n",
    "connection_string=f\"{protocol}://{username}:{password}@{host}:{port}/{database_name}\""
   ]
  },
  {
   "cell_type": "code",
   "execution_count": 13,
   "id": "87305390",
   "metadata": {},
   "outputs": [
    {
     "name": "stderr",
     "output_type": "stream",
     "text": [
      "C:\\Users\\kazek\\AppData\\Local\\Temp\\ipykernel_17988\\3440626619.py:2: SADeprecationWarning: The Engine.table_names() method is deprecated and will be removed in a future release.  Please refer to Inspector.get_table_names(). (deprecated since: 1.4)\n",
      "  engine.table_names()\n"
     ]
    },
    {
     "data": {
      "text/plain": [
       "['year_2022', 'year_2021', 'year_2020', 'year_2019']"
      ]
     },
     "execution_count": 13,
     "metadata": {},
     "output_type": "execute_result"
    }
   ],
   "source": [
    "engine=create_engine(connection_string)\n",
    "engine.table_names()"
   ]
  },
  {
   "cell_type": "code",
   "execution_count": 14,
   "id": "8d6300ff",
   "metadata": {},
   "outputs": [
    {
     "data": {
      "text/plain": [
       "146"
      ]
     },
     "execution_count": 14,
     "metadata": {},
     "output_type": "execute_result"
    }
   ],
   "source": [
    "year_2022.to_sql(name=\"year_2022\",con=engine,if_exists=\"append\", index=False)"
   ]
  },
  {
   "cell_type": "code",
   "execution_count": 15,
   "id": "f1660413",
   "metadata": {},
   "outputs": [
    {
     "data": {
      "text/plain": [
       "149"
      ]
     },
     "execution_count": 15,
     "metadata": {},
     "output_type": "execute_result"
    }
   ],
   "source": [
    "year_2021.to_sql(name=\"year_2021\",con=engine,if_exists=\"append\", index=False)"
   ]
  },
  {
   "cell_type": "code",
   "execution_count": 16,
   "id": "2faf40c3",
   "metadata": {},
   "outputs": [
    {
     "data": {
      "text/plain": [
       "153"
      ]
     },
     "execution_count": 16,
     "metadata": {},
     "output_type": "execute_result"
    }
   ],
   "source": [
    "year_2020.to_sql(name=\"year_2020\",con=engine,if_exists=\"append\", index=False)"
   ]
  },
  {
   "cell_type": "code",
   "execution_count": 17,
   "id": "5e6ef262",
   "metadata": {},
   "outputs": [
    {
     "data": {
      "text/plain": [
       "156"
      ]
     },
     "execution_count": 17,
     "metadata": {},
     "output_type": "execute_result"
    }
   ],
   "source": [
    "year_2019.to_sql(name=\"year_2019\",con=engine,if_exists=\"append\", index=False)"
   ]
  },
  {
   "cell_type": "code",
   "execution_count": null,
   "id": "ad5ee581",
   "metadata": {},
   "outputs": [],
   "source": []
  }
 ],
 "metadata": {
  "kernelspec": {
   "display_name": "Python 3 (ipykernel)",
   "language": "python",
   "name": "python3"
  },
  "language_info": {
   "codemirror_mode": {
    "name": "ipython",
    "version": 3
   },
   "file_extension": ".py",
   "mimetype": "text/x-python",
   "name": "python",
   "nbconvert_exporter": "python",
   "pygments_lexer": "ipython3",
   "version": "3.9.12"
  }
 },
 "nbformat": 4,
 "nbformat_minor": 5
}
