{
 "cells": [
  {
   "cell_type": "markdown",
   "id": "e283e871",
   "metadata": {},
   "source": [
    "# Importing Modules and CSV files"
   ]
  },
  {
   "cell_type": "code",
   "execution_count": 1,
   "id": "04299de8",
   "metadata": {},
   "outputs": [],
   "source": [
    "import pandas as pd\n",
    "from sqlalchemy import create_engine\n",
    "from config import user\n",
    "from config import password2\n"
   ]
  },
  {
   "cell_type": "code",
   "execution_count": 2,
   "id": "62fa151e",
   "metadata": {},
   "outputs": [],
   "source": [
    "year_2022=pd.read_csv(\"./Resources/2022.csv\")\n",
    "year_2021=pd.read_csv(\"./Resources/2021.csv\")\n",
    "year_2020=pd.read_csv(\"./Resources/2020.csv\")\n",
    "year_2019=pd.read_csv(\"./Resources/2019.csv\")\n",
    "year_2018=pd.read_csv(\"./Resources/2018.csv\")\n",
    "coordinates=pd.read_csv(\"./Resources/country_coord.csv\")"
   ]
  },
  {
   "cell_type": "markdown",
   "id": "5f0b1275",
   "metadata": {},
   "source": [
    "# Data Cleaning"
   ]
  },
  {
   "cell_type": "markdown",
   "id": "9ab80bab",
   "metadata": {},
   "source": [
    "YEAR 2022"
   ]
  },
  {
   "cell_type": "code",
   "execution_count": 3,
   "id": "9b43e7ff",
   "metadata": {},
   "outputs": [],
   "source": [
    "year_2022.drop(\"RANK\",inplace=True,axis=1)\n",
    "year_2022.drop(\"Whisker-high\",inplace=True,axis=1)\n",
    "year_2022.drop(\"Whisker-low\",inplace=True,axis=1)\n",
    "year_2022.drop(\"Dystopia (1.83) + residual\",inplace=True,axis=1)\n",
    "year_2022.drop(\"Explained by: Generosity\",inplace=True,axis=1)\n",
    "year_2022.drop(\"Explained by: Perceptions of corruption\",inplace=True,axis=1)"
   ]
  },
  {
   "cell_type": "code",
   "execution_count": 4,
   "id": "241e2c5a",
   "metadata": {},
   "outputs": [],
   "source": [
    "\n",
    "year_2022 = year_2022.rename(columns={'Country': 'country', 'Happiness score': 'happiness_score2022','Explained by: GDP per capita': 'gpd_per_capita2022','Explained by: Social support':'social_support2022','Explained by: Healthy life expectancy': 'healthy_life_expectancy2022','Explained by: Freedom to make life choices': 'freedom_to_make_life_choices2022'})"
   ]
  },
  {
   "cell_type": "code",
   "execution_count": 5,
   "id": "3386b747",
   "metadata": {},
   "outputs": [],
   "source": [
    "year_2022[\"gpd_per_capita2022\"] = year_2022[\"gpd_per_capita2022\"].str.replace(\",\", \".\")\n",
    "year_2022[\"social_support2022\"] = year_2022[\"social_support2022\"].str.replace(\",\", \".\")\n",
    "year_2022[\"healthy_life_expectancy2022\"] = year_2022[\"healthy_life_expectancy2022\"].str.replace(\",\", \".\")\n",
    "year_2022[\"freedom_to_make_life_choices2022\"] = year_2022[\"freedom_to_make_life_choices2022\"].str.replace(\",\", \".\")\n",
    "\n"
   ]
  },
  {
   "cell_type": "markdown",
   "id": "d0cb53b3",
   "metadata": {},
   "source": [
    "YEAR 2021"
   ]
  },
  {
   "cell_type": "code",
   "execution_count": 6,
   "id": "5d07ce2c",
   "metadata": {},
   "outputs": [],
   "source": [
    "year_2021.drop(\"Regional indicator\",inplace=True,axis=1)\n",
    "year_2021.drop(\"Standard error of ladder score\",inplace=True,axis=1)\n",
    "year_2021.drop(\"upperwhisker\",inplace=True,axis=1)\n",
    "year_2021.drop(\"lowerwhisker\",inplace=True,axis=1)\n",
    "year_2021.drop(\"Logged GDP per capita\",inplace=True,axis=1)\n",
    "year_2021.drop(\"Social support\",inplace=True,axis=1)\n",
    "year_2021.drop(\"Healthy life expectancy\",inplace=True,axis=1)\n",
    "year_2021.drop(\"Freedom to make life choices\",inplace=True,axis=1)\n",
    "year_2021.drop(\"Generosity\",inplace=True,axis=1)\n",
    "year_2021.drop(\"Perceptions of corruption\",inplace=True,axis=1)\n",
    "year_2021.drop(\"Ladder score in Dystopia\",inplace=True,axis=1)\n",
    "year_2021.drop(\"Explained by: Generosity\",inplace=True,axis=1)\n",
    "year_2021.drop(\"Explained by: Perceptions of corruption\",inplace=True,axis=1)\n",
    "year_2021.drop(\"Dystopia + residual\",inplace=True,axis=1)\n",
    "\n"
   ]
  },
  {
   "cell_type": "code",
   "execution_count": 7,
   "id": "ab12d98f",
   "metadata": {},
   "outputs": [],
   "source": [
    "\n",
    "year_2021 = year_2021.rename(columns={'Country name': 'country', 'Ladder score': 'happiness_score2021','Explained by: Log GDP per capita': 'gpd_per_capita2021','Explained by: Social support':'social_support2021','Explained by: Healthy life expectancy': 'healthy_life_expectancy2021','Explained by: Freedom to make life choices': 'freedom_to_make_life_choices2021'})"
   ]
  },
  {
   "cell_type": "markdown",
   "id": "425215cd",
   "metadata": {},
   "source": [
    "YEAR 2020"
   ]
  },
  {
   "cell_type": "code",
   "execution_count": 8,
   "id": "65c17c5c",
   "metadata": {},
   "outputs": [],
   "source": [
    "year_2020.drop(\"Regional indicator\",inplace=True,axis=1)\n",
    "year_2020.drop(\"Standard error of ladder score\",inplace=True,axis=1)\n",
    "year_2020.drop(\"upperwhisker\",inplace=True,axis=1)\n",
    "year_2020.drop(\"lowerwhisker\",inplace=True,axis=1)\n",
    "year_2020.drop(\"Logged GDP per capita\",inplace=True,axis=1)\n",
    "year_2020.drop(\"Social support\",inplace=True,axis=1)\n",
    "year_2020.drop(\"Healthy life expectancy\",inplace=True,axis=1)\n",
    "year_2020.drop(\"Freedom to make life choices\",inplace=True,axis=1)\n",
    "year_2020.drop(\"Generosity\",inplace=True,axis=1)\n",
    "year_2020.drop(\"Perceptions of corruption\",inplace=True,axis=1)\n",
    "year_2020.drop(\"Ladder score in Dystopia\",inplace=True,axis=1)\n",
    "year_2020.drop(\"Explained by: Generosity\",inplace=True,axis=1)\n",
    "year_2020.drop(\"Explained by: Perceptions of corruption\",inplace=True,axis=1)\n",
    "year_2020.drop(\"Dystopia + residual\",inplace=True,axis=1)"
   ]
  },
  {
   "cell_type": "code",
   "execution_count": 10,
   "id": "f8f922f7",
   "metadata": {},
   "outputs": [],
   "source": [
    "\n",
    "year_2020 = year_2020.rename(columns={'Country name': 'country', 'Ladder score': 'happiness_score2020','Explained by: Log GDP per capita': 'gpd_per_capita2020','Explained by: Social support':'social_support2020','Explained by: Healthy life expectancy': 'healthy_life_expectancy2020','Explained by: Freedom to make life choices': 'freedom_to_make_life_choices2020'})"
   ]
  },
  {
   "cell_type": "markdown",
   "id": "f3c2002a",
   "metadata": {},
   "source": [
    "YEAR 2019"
   ]
  },
  {
   "cell_type": "code",
   "execution_count": 11,
   "id": "3781e385",
   "metadata": {},
   "outputs": [
    {
     "ename": "KeyError",
     "evalue": "\"['Overall rank'] not found in axis\"",
     "output_type": "error",
     "traceback": [
      "\u001b[1;31m---------------------------------------------------------------------------\u001b[0m",
      "\u001b[1;31mKeyError\u001b[0m                                  Traceback (most recent call last)",
      "Input \u001b[1;32mIn [11]\u001b[0m, in \u001b[0;36m<cell line: 1>\u001b[1;34m()\u001b[0m\n\u001b[1;32m----> 1\u001b[0m \u001b[43myear_2019\u001b[49m\u001b[38;5;241;43m.\u001b[39;49m\u001b[43mdrop\u001b[49m\u001b[43m(\u001b[49m\u001b[38;5;124;43m\"\u001b[39;49m\u001b[38;5;124;43mOverall rank\u001b[39;49m\u001b[38;5;124;43m\"\u001b[39;49m\u001b[43m,\u001b[49m\u001b[43minplace\u001b[49m\u001b[38;5;241;43m=\u001b[39;49m\u001b[38;5;28;43;01mTrue\u001b[39;49;00m\u001b[43m,\u001b[49m\u001b[43maxis\u001b[49m\u001b[38;5;241;43m=\u001b[39;49m\u001b[38;5;241;43m1\u001b[39;49m\u001b[43m)\u001b[49m\n\u001b[0;32m      2\u001b[0m year_2019\u001b[38;5;241m.\u001b[39mdrop(\u001b[38;5;124m\"\u001b[39m\u001b[38;5;124mGenerosity\u001b[39m\u001b[38;5;124m\"\u001b[39m,inplace\u001b[38;5;241m=\u001b[39m\u001b[38;5;28;01mTrue\u001b[39;00m,axis\u001b[38;5;241m=\u001b[39m\u001b[38;5;241m1\u001b[39m)\n\u001b[0;32m      3\u001b[0m year_2019\u001b[38;5;241m.\u001b[39mdrop(\u001b[38;5;124m\"\u001b[39m\u001b[38;5;124mPerceptions of corruption\u001b[39m\u001b[38;5;124m\"\u001b[39m,inplace\u001b[38;5;241m=\u001b[39m\u001b[38;5;28;01mTrue\u001b[39;00m,axis\u001b[38;5;241m=\u001b[39m\u001b[38;5;241m1\u001b[39m)\n",
      "File \u001b[1;32m~\\anaconda3\\lib\\site-packages\\pandas\\util\\_decorators.py:311\u001b[0m, in \u001b[0;36mdeprecate_nonkeyword_arguments.<locals>.decorate.<locals>.wrapper\u001b[1;34m(*args, **kwargs)\u001b[0m\n\u001b[0;32m    305\u001b[0m \u001b[38;5;28;01mif\u001b[39;00m \u001b[38;5;28mlen\u001b[39m(args) \u001b[38;5;241m>\u001b[39m num_allow_args:\n\u001b[0;32m    306\u001b[0m     warnings\u001b[38;5;241m.\u001b[39mwarn(\n\u001b[0;32m    307\u001b[0m         msg\u001b[38;5;241m.\u001b[39mformat(arguments\u001b[38;5;241m=\u001b[39marguments),\n\u001b[0;32m    308\u001b[0m         \u001b[38;5;167;01mFutureWarning\u001b[39;00m,\n\u001b[0;32m    309\u001b[0m         stacklevel\u001b[38;5;241m=\u001b[39mstacklevel,\n\u001b[0;32m    310\u001b[0m     )\n\u001b[1;32m--> 311\u001b[0m \u001b[38;5;28;01mreturn\u001b[39;00m func(\u001b[38;5;241m*\u001b[39margs, \u001b[38;5;241m*\u001b[39m\u001b[38;5;241m*\u001b[39mkwargs)\n",
      "File \u001b[1;32m~\\anaconda3\\lib\\site-packages\\pandas\\core\\frame.py:4954\u001b[0m, in \u001b[0;36mDataFrame.drop\u001b[1;34m(self, labels, axis, index, columns, level, inplace, errors)\u001b[0m\n\u001b[0;32m   4806\u001b[0m \u001b[38;5;129m@deprecate_nonkeyword_arguments\u001b[39m(version\u001b[38;5;241m=\u001b[39m\u001b[38;5;28;01mNone\u001b[39;00m, allowed_args\u001b[38;5;241m=\u001b[39m[\u001b[38;5;124m\"\u001b[39m\u001b[38;5;124mself\u001b[39m\u001b[38;5;124m\"\u001b[39m, \u001b[38;5;124m\"\u001b[39m\u001b[38;5;124mlabels\u001b[39m\u001b[38;5;124m\"\u001b[39m])\n\u001b[0;32m   4807\u001b[0m \u001b[38;5;28;01mdef\u001b[39;00m \u001b[38;5;21mdrop\u001b[39m(\n\u001b[0;32m   4808\u001b[0m     \u001b[38;5;28mself\u001b[39m,\n\u001b[1;32m   (...)\u001b[0m\n\u001b[0;32m   4815\u001b[0m     errors: \u001b[38;5;28mstr\u001b[39m \u001b[38;5;241m=\u001b[39m \u001b[38;5;124m\"\u001b[39m\u001b[38;5;124mraise\u001b[39m\u001b[38;5;124m\"\u001b[39m,\n\u001b[0;32m   4816\u001b[0m ):\n\u001b[0;32m   4817\u001b[0m     \u001b[38;5;124;03m\"\"\"\u001b[39;00m\n\u001b[0;32m   4818\u001b[0m \u001b[38;5;124;03m    Drop specified labels from rows or columns.\u001b[39;00m\n\u001b[0;32m   4819\u001b[0m \n\u001b[1;32m   (...)\u001b[0m\n\u001b[0;32m   4952\u001b[0m \u001b[38;5;124;03m            weight  1.0     0.8\u001b[39;00m\n\u001b[0;32m   4953\u001b[0m \u001b[38;5;124;03m    \"\"\"\u001b[39;00m\n\u001b[1;32m-> 4954\u001b[0m     \u001b[38;5;28;01mreturn\u001b[39;00m \u001b[38;5;28;43msuper\u001b[39;49m\u001b[43m(\u001b[49m\u001b[43m)\u001b[49m\u001b[38;5;241;43m.\u001b[39;49m\u001b[43mdrop\u001b[49m\u001b[43m(\u001b[49m\n\u001b[0;32m   4955\u001b[0m \u001b[43m        \u001b[49m\u001b[43mlabels\u001b[49m\u001b[38;5;241;43m=\u001b[39;49m\u001b[43mlabels\u001b[49m\u001b[43m,\u001b[49m\n\u001b[0;32m   4956\u001b[0m \u001b[43m        \u001b[49m\u001b[43maxis\u001b[49m\u001b[38;5;241;43m=\u001b[39;49m\u001b[43maxis\u001b[49m\u001b[43m,\u001b[49m\n\u001b[0;32m   4957\u001b[0m \u001b[43m        \u001b[49m\u001b[43mindex\u001b[49m\u001b[38;5;241;43m=\u001b[39;49m\u001b[43mindex\u001b[49m\u001b[43m,\u001b[49m\n\u001b[0;32m   4958\u001b[0m \u001b[43m        \u001b[49m\u001b[43mcolumns\u001b[49m\u001b[38;5;241;43m=\u001b[39;49m\u001b[43mcolumns\u001b[49m\u001b[43m,\u001b[49m\n\u001b[0;32m   4959\u001b[0m \u001b[43m        \u001b[49m\u001b[43mlevel\u001b[49m\u001b[38;5;241;43m=\u001b[39;49m\u001b[43mlevel\u001b[49m\u001b[43m,\u001b[49m\n\u001b[0;32m   4960\u001b[0m \u001b[43m        \u001b[49m\u001b[43minplace\u001b[49m\u001b[38;5;241;43m=\u001b[39;49m\u001b[43minplace\u001b[49m\u001b[43m,\u001b[49m\n\u001b[0;32m   4961\u001b[0m \u001b[43m        \u001b[49m\u001b[43merrors\u001b[49m\u001b[38;5;241;43m=\u001b[39;49m\u001b[43merrors\u001b[49m\u001b[43m,\u001b[49m\n\u001b[0;32m   4962\u001b[0m \u001b[43m    \u001b[49m\u001b[43m)\u001b[49m\n",
      "File \u001b[1;32m~\\anaconda3\\lib\\site-packages\\pandas\\core\\generic.py:4267\u001b[0m, in \u001b[0;36mNDFrame.drop\u001b[1;34m(self, labels, axis, index, columns, level, inplace, errors)\u001b[0m\n\u001b[0;32m   4265\u001b[0m \u001b[38;5;28;01mfor\u001b[39;00m axis, labels \u001b[38;5;129;01min\u001b[39;00m axes\u001b[38;5;241m.\u001b[39mitems():\n\u001b[0;32m   4266\u001b[0m     \u001b[38;5;28;01mif\u001b[39;00m labels \u001b[38;5;129;01mis\u001b[39;00m \u001b[38;5;129;01mnot\u001b[39;00m \u001b[38;5;28;01mNone\u001b[39;00m:\n\u001b[1;32m-> 4267\u001b[0m         obj \u001b[38;5;241m=\u001b[39m \u001b[43mobj\u001b[49m\u001b[38;5;241;43m.\u001b[39;49m\u001b[43m_drop_axis\u001b[49m\u001b[43m(\u001b[49m\u001b[43mlabels\u001b[49m\u001b[43m,\u001b[49m\u001b[43m \u001b[49m\u001b[43maxis\u001b[49m\u001b[43m,\u001b[49m\u001b[43m \u001b[49m\u001b[43mlevel\u001b[49m\u001b[38;5;241;43m=\u001b[39;49m\u001b[43mlevel\u001b[49m\u001b[43m,\u001b[49m\u001b[43m \u001b[49m\u001b[43merrors\u001b[49m\u001b[38;5;241;43m=\u001b[39;49m\u001b[43merrors\u001b[49m\u001b[43m)\u001b[49m\n\u001b[0;32m   4269\u001b[0m \u001b[38;5;28;01mif\u001b[39;00m inplace:\n\u001b[0;32m   4270\u001b[0m     \u001b[38;5;28mself\u001b[39m\u001b[38;5;241m.\u001b[39m_update_inplace(obj)\n",
      "File \u001b[1;32m~\\anaconda3\\lib\\site-packages\\pandas\\core\\generic.py:4311\u001b[0m, in \u001b[0;36mNDFrame._drop_axis\u001b[1;34m(self, labels, axis, level, errors, consolidate, only_slice)\u001b[0m\n\u001b[0;32m   4309\u001b[0m         new_axis \u001b[38;5;241m=\u001b[39m axis\u001b[38;5;241m.\u001b[39mdrop(labels, level\u001b[38;5;241m=\u001b[39mlevel, errors\u001b[38;5;241m=\u001b[39merrors)\n\u001b[0;32m   4310\u001b[0m     \u001b[38;5;28;01melse\u001b[39;00m:\n\u001b[1;32m-> 4311\u001b[0m         new_axis \u001b[38;5;241m=\u001b[39m \u001b[43maxis\u001b[49m\u001b[38;5;241;43m.\u001b[39;49m\u001b[43mdrop\u001b[49m\u001b[43m(\u001b[49m\u001b[43mlabels\u001b[49m\u001b[43m,\u001b[49m\u001b[43m \u001b[49m\u001b[43merrors\u001b[49m\u001b[38;5;241;43m=\u001b[39;49m\u001b[43merrors\u001b[49m\u001b[43m)\u001b[49m\n\u001b[0;32m   4312\u001b[0m     indexer \u001b[38;5;241m=\u001b[39m axis\u001b[38;5;241m.\u001b[39mget_indexer(new_axis)\n\u001b[0;32m   4314\u001b[0m \u001b[38;5;66;03m# Case for non-unique axis\u001b[39;00m\n\u001b[0;32m   4315\u001b[0m \u001b[38;5;28;01melse\u001b[39;00m:\n",
      "File \u001b[1;32m~\\anaconda3\\lib\\site-packages\\pandas\\core\\indexes\\base.py:6644\u001b[0m, in \u001b[0;36mIndex.drop\u001b[1;34m(self, labels, errors)\u001b[0m\n\u001b[0;32m   6642\u001b[0m \u001b[38;5;28;01mif\u001b[39;00m mask\u001b[38;5;241m.\u001b[39many():\n\u001b[0;32m   6643\u001b[0m     \u001b[38;5;28;01mif\u001b[39;00m errors \u001b[38;5;241m!=\u001b[39m \u001b[38;5;124m\"\u001b[39m\u001b[38;5;124mignore\u001b[39m\u001b[38;5;124m\"\u001b[39m:\n\u001b[1;32m-> 6644\u001b[0m         \u001b[38;5;28;01mraise\u001b[39;00m \u001b[38;5;167;01mKeyError\u001b[39;00m(\u001b[38;5;124mf\u001b[39m\u001b[38;5;124m\"\u001b[39m\u001b[38;5;132;01m{\u001b[39;00m\u001b[38;5;28mlist\u001b[39m(labels[mask])\u001b[38;5;132;01m}\u001b[39;00m\u001b[38;5;124m not found in axis\u001b[39m\u001b[38;5;124m\"\u001b[39m)\n\u001b[0;32m   6645\u001b[0m     indexer \u001b[38;5;241m=\u001b[39m indexer[\u001b[38;5;241m~\u001b[39mmask]\n\u001b[0;32m   6646\u001b[0m \u001b[38;5;28;01mreturn\u001b[39;00m \u001b[38;5;28mself\u001b[39m\u001b[38;5;241m.\u001b[39mdelete(indexer)\n",
      "\u001b[1;31mKeyError\u001b[0m: \"['Overall rank'] not found in axis\""
     ]
    }
   ],
   "source": [
    "year_2019.drop(\"Overall rank\",inplace=True,axis=1)\n",
    "year_2019.drop(\"Generosity\",inplace=True,axis=1)\n",
    "year_2019.drop(\"Perceptions of corruption\",inplace=True,axis=1)\n"
   ]
  },
  {
   "cell_type": "code",
   "execution_count": null,
   "id": "3c516685",
   "metadata": {},
   "outputs": [],
   "source": [
    "\n",
    "year_2019 = year_2019.rename(columns={'Country or region': 'country', 'Score': 'happiness_score2019','GDP per capita': 'gpd_per_capita2019','Social support':'social_support2019','Healthy life expectancy': 'healthy_life_expectancy2019','Freedom to make life choices': 'freedom_to_make_life_choices2019'})"
   ]
  },
  {
   "cell_type": "markdown",
   "id": "ccb99bdf",
   "metadata": {},
   "source": [
    "COORDINATES"
   ]
  },
  {
   "cell_type": "code",
   "execution_count": null,
   "id": "4d0e042b",
   "metadata": {},
   "outputs": [],
   "source": []
  },
  {
   "cell_type": "code",
   "execution_count": 12,
   "id": "933be4a7",
   "metadata": {},
   "outputs": [],
   "source": [
    "coordinates.drop(\"Alpha-2 code\",inplace=True,axis=1)\n",
    "coordinates.drop(\"Alpha-3 code\",inplace=True,axis=1)\n",
    "coordinates.drop(\"Numeric code\",inplace=True,axis=1)\n"
   ]
  },
  {
   "cell_type": "code",
   "execution_count": 13,
   "id": "258d06b6",
   "metadata": {},
   "outputs": [],
   "source": [
    "\n",
    "coordinates = coordinates.rename(columns={'Country': 'country', 'Latitude (average)': 'latitude','Longitude (average)': 'longtitude'})"
   ]
  },
  {
   "cell_type": "code",
   "execution_count": null,
   "id": "2e9fccb9",
   "metadata": {},
   "outputs": [],
   "source": []
  },
  {
   "cell_type": "code",
   "execution_count": null,
   "id": "f710fbb7",
   "metadata": {},
   "outputs": [],
   "source": []
  },
  {
   "cell_type": "markdown",
   "id": "9cface81",
   "metadata": {},
   "source": [
    "# Create Database Connection"
   ]
  },
  {
   "cell_type": "code",
   "execution_count": 14,
   "id": "8f9eafa7",
   "metadata": {},
   "outputs": [],
   "source": [
    "protocol=\"postgresql\"\n",
    "username=user\n",
    "password=password2\n",
    "host=\"localhost\"\n",
    "port=5432\n",
    "database_name=\"World_Happiness\"\n",
    "connection_string=f\"{protocol}://{username}:{password}@{host}:{port}/{database_name}\""
   ]
  },
  {
   "cell_type": "code",
   "execution_count": 15,
   "id": "87305390",
   "metadata": {},
   "outputs": [
    {
     "name": "stderr",
     "output_type": "stream",
     "text": [
      "C:\\Users\\kazek\\AppData\\Local\\Temp\\ipykernel_20732\\3440626619.py:2: SADeprecationWarning: The Engine.table_names() method is deprecated and will be removed in a future release.  Please refer to Inspector.get_table_names(). (deprecated since: 1.4)\n",
      "  engine.table_names()\n"
     ]
    },
    {
     "data": {
      "text/plain": [
       "['year_2019', 'year_2022', 'year_2021', 'year_2020', 'coordinates']"
      ]
     },
     "execution_count": 15,
     "metadata": {},
     "output_type": "execute_result"
    }
   ],
   "source": [
    "engine=create_engine(connection_string)\n",
    "engine.table_names()"
   ]
  },
  {
   "cell_type": "code",
   "execution_count": 21,
   "id": "8d6300ff",
   "metadata": {},
   "outputs": [
    {
     "data": {
      "text/plain": [
       "146"
      ]
     },
     "execution_count": 21,
     "metadata": {},
     "output_type": "execute_result"
    }
   ],
   "source": [
    "year_2022.to_sql(name=\"year_2022\",con=engine,if_exists=\"append\", index=False)"
   ]
  },
  {
   "cell_type": "code",
   "execution_count": 18,
   "id": "f1660413",
   "metadata": {},
   "outputs": [
    {
     "data": {
      "text/plain": [
       "149"
      ]
     },
     "execution_count": 18,
     "metadata": {},
     "output_type": "execute_result"
    }
   ],
   "source": [
    "year_2021.to_sql(name=\"year_2021\",con=engine,if_exists=\"append\", index=False)"
   ]
  },
  {
   "cell_type": "code",
   "execution_count": 19,
   "id": "2faf40c3",
   "metadata": {},
   "outputs": [
    {
     "data": {
      "text/plain": [
       "153"
      ]
     },
     "execution_count": 19,
     "metadata": {},
     "output_type": "execute_result"
    }
   ],
   "source": [
    "year_2020.to_sql(name=\"year_2020\",con=engine,if_exists=\"append\", index=False)"
   ]
  },
  {
   "cell_type": "code",
   "execution_count": 20,
   "id": "5e6ef262",
   "metadata": {},
   "outputs": [
    {
     "data": {
      "text/plain": [
       "156"
      ]
     },
     "execution_count": 20,
     "metadata": {},
     "output_type": "execute_result"
    }
   ],
   "source": [
    "year_2019.to_sql(name=\"year_2019\",con=engine,if_exists=\"append\", index=False)"
   ]
  },
  {
   "cell_type": "code",
   "execution_count": 16,
   "id": "ad5ee581",
   "metadata": {},
   "outputs": [
    {
     "data": {
      "text/plain": [
       "244"
      ]
     },
     "execution_count": 16,
     "metadata": {},
     "output_type": "execute_result"
    }
   ],
   "source": [
    "coordinates.to_sql(name=\"coordinates\",con=engine,if_exists=\"append\", index=False)"
   ]
  },
  {
   "cell_type": "code",
   "execution_count": null,
   "id": "5fc32850",
   "metadata": {},
   "outputs": [],
   "source": []
  }
 ],
 "metadata": {
  "kernelspec": {
   "display_name": "Python 3 (ipykernel)",
   "language": "python",
   "name": "python3"
  },
  "language_info": {
   "codemirror_mode": {
    "name": "ipython",
    "version": 3
   },
   "file_extension": ".py",
   "mimetype": "text/x-python",
   "name": "python",
   "nbconvert_exporter": "python",
   "pygments_lexer": "ipython3",
   "version": "3.9.12"
  }
 },
 "nbformat": 4,
 "nbformat_minor": 5
}
