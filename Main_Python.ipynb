{
 "cells": [
  {
   "cell_type": "markdown",
   "id": "e283e871",
   "metadata": {},
   "source": [
    "# Importing Modules and CSV files"
   ]
  },
  {
   "cell_type": "code",
   "execution_count": 1,
   "id": "04299de8",
   "metadata": {},
   "outputs": [],
   "source": [
    "import pandas as pd\n",
    "from sqlalchemy import create_engine\n",
    "from config import user\n",
    "from config import password2\n"
   ]
  },
  {
   "cell_type": "code",
   "execution_count": 2,
   "id": "62fa151e",
   "metadata": {},
   "outputs": [],
   "source": [
    "year_2022=pd.read_csv(\"./Resources/2022.csv\")\n",
    "year_2021=pd.read_csv(\"./Resources/2021.csv\")\n",
    "year_2020=pd.read_csv(\"./Resources/2020.csv\")\n",
    "year_2019=pd.read_csv(\"./Resources/2019.csv\")\n",
    "year_2018=pd.read_csv(\"./Resources/2018.csv\")"
   ]
  },
  {
   "cell_type": "markdown",
   "id": "5f0b1275",
   "metadata": {},
   "source": [
    "# Data Cleaning"
   ]
  },
  {
   "cell_type": "markdown",
   "id": "9ab80bab",
   "metadata": {},
   "source": [
    "YEAR 2022"
   ]
  },
  {
   "cell_type": "code",
   "execution_count": 3,
   "id": "9b43e7ff",
   "metadata": {},
   "outputs": [],
   "source": [
    "year_2022.drop(\"RANK\",inplace=True,axis=1)\n",
    "year_2022.drop(\"Whisker-high\",inplace=True,axis=1)\n",
    "year_2022.drop(\"Whisker-low\",inplace=True,axis=1)\n",
    "year_2022.drop(\"Dystopia (1.83) + residual\",inplace=True,axis=1)\n",
    "year_2022.drop(\"Explained by: Generosity\",inplace=True,axis=1)\n",
    "year_2022.drop(\"Explained by: Perceptions of corruption\",inplace=True,axis=1)"
   ]
  },
  {
   "cell_type": "code",
   "execution_count": 4,
   "id": "241e2c5a",
   "metadata": {},
   "outputs": [],
   "source": [
    "\n",
    "year_2022 = year_2022.rename(columns={'Country': 'country', 'Happiness score': 'happiness_score2022','Explained by: GDP per capita': 'gpd_per_capita2022','Explained by: Social support':'social_support2022','Explained by: Healthy life expectancy': 'healthy_life_expectancy2022','Explained by: Freedom to make life choices': 'freedom_to_make_life_choices2022'})"
   ]
  },
  {
   "cell_type": "code",
   "execution_count": 6,
   "id": "3386b747",
   "metadata": {},
   "outputs": [],
   "source": [
    "year_2022[\"gpd_per_capita2022\"] = year_2022[\"gpd_per_capita2022\"].str.replace(\",\", \".\")\n",
    "year_2022[\"social_support2022\"] = year_2022[\"social_support2022\"].str.replace(\",\", \".\")\n",
    "year_2022[\"healthy_life_expectancy2022\"] = year_2022[\"healthy_life_expectancy2022\"].str.replace(\",\", \".\")\n",
    "year_2022[\"freedom_to_make_life_choices2022\"] = year_2022[\"freedom_to_make_life_choices2022\"].str.replace(\",\", \".\")\n",
    "\n"
   ]
  },
  {
   "cell_type": "markdown",
   "id": "d0cb53b3",
   "metadata": {},
   "source": [
    "YEAR 2021"
   ]
  },
  {
   "cell_type": "code",
   "execution_count": 7,
   "id": "5d07ce2c",
   "metadata": {},
   "outputs": [],
   "source": [
    "year_2021.drop(\"Regional indicator\",inplace=True,axis=1)\n",
    "year_2021.drop(\"Standard error of ladder score\",inplace=True,axis=1)\n",
    "year_2021.drop(\"upperwhisker\",inplace=True,axis=1)\n",
    "year_2021.drop(\"lowerwhisker\",inplace=True,axis=1)\n",
    "year_2021.drop(\"Logged GDP per capita\",inplace=True,axis=1)\n",
    "year_2021.drop(\"Social support\",inplace=True,axis=1)\n",
    "year_2021.drop(\"Healthy life expectancy\",inplace=True,axis=1)\n",
    "year_2021.drop(\"Freedom to make life choices\",inplace=True,axis=1)\n",
    "year_2021.drop(\"Generosity\",inplace=True,axis=1)\n",
    "year_2021.drop(\"Perceptions of corruption\",inplace=True,axis=1)\n",
    "year_2021.drop(\"Ladder score in Dystopia\",inplace=True,axis=1)\n",
    "year_2021.drop(\"Explained by: Generosity\",inplace=True,axis=1)\n",
    "year_2021.drop(\"Explained by: Perceptions of corruption\",inplace=True,axis=1)\n",
    "year_2021.drop(\"Dystopia + residual\",inplace=True,axis=1)\n",
    "\n"
   ]
  },
  {
   "cell_type": "code",
   "execution_count": 8,
   "id": "ab12d98f",
   "metadata": {},
   "outputs": [],
   "source": [
    "\n",
    "year_2021 = year_2021.rename(columns={'Country name': 'country', 'Ladder score': 'happiness_score2021','Explained by: Log GDP per capita': 'gpd_per_capita2021','Explained by: Social support':'social_support2021','Explained by: Healthy life expectancy': 'healthy_life_expectancy2021','Explained by: Freedom to make life choices': 'freedom_to_make_life_choices2021'})"
   ]
  },
  {
   "cell_type": "markdown",
   "id": "425215cd",
   "metadata": {},
   "source": [
    "YEAR 2020"
   ]
  },
  {
   "cell_type": "code",
   "execution_count": 9,
   "id": "65c17c5c",
   "metadata": {},
   "outputs": [],
   "source": [
    "year_2020.drop(\"Regional indicator\",inplace=True,axis=1)\n",
    "year_2020.drop(\"Standard error of ladder score\",inplace=True,axis=1)\n",
    "year_2020.drop(\"upperwhisker\",inplace=True,axis=1)\n",
    "year_2020.drop(\"lowerwhisker\",inplace=True,axis=1)\n",
    "year_2020.drop(\"Logged GDP per capita\",inplace=True,axis=1)\n",
    "year_2020.drop(\"Social support\",inplace=True,axis=1)\n",
    "year_2020.drop(\"Healthy life expectancy\",inplace=True,axis=1)\n",
    "year_2020.drop(\"Freedom to make life choices\",inplace=True,axis=1)\n",
    "year_2020.drop(\"Generosity\",inplace=True,axis=1)\n",
    "year_2020.drop(\"Perceptions of corruption\",inplace=True,axis=1)\n",
    "year_2020.drop(\"Ladder score in Dystopia\",inplace=True,axis=1)\n",
    "year_2020.drop(\"Explained by: Generosity\",inplace=True,axis=1)\n",
    "year_2020.drop(\"Explained by: Perceptions of corruption\",inplace=True,axis=1)\n",
    "year_2020.drop(\"Dystopia + residual\",inplace=True,axis=1)"
   ]
  },
  {
   "cell_type": "code",
   "execution_count": 10,
   "id": "46beed99",
   "metadata": {},
   "outputs": [],
   "source": [
    "\n",
    "year_2020 = year_2020.rename(columns={'Country name': 'country', 'Ladder score': 'happiness_score2020','Explained by: Log GDP per capita': 'gpd_per_capita2020','Explained by: Social support':'social_support2020','Explained by: Healthy life expectancy': 'healthy_life_expectancy2020','Explained by: Freedom to make life choices': 'freedom_to_make_life_choices2020'})"
   ]
  },
  {
   "cell_type": "markdown",
   "id": "f3c2002a",
   "metadata": {},
   "source": [
    "YEAR 2019"
   ]
  },
  {
   "cell_type": "code",
   "execution_count": 11,
   "id": "3781e385",
   "metadata": {},
   "outputs": [],
   "source": [
    "year_2019.drop(\"Overall rank\",inplace=True,axis=1)\n",
    "year_2019.drop(\"Generosity\",inplace=True,axis=1)\n",
    "year_2019.drop(\"Perceptions of corruption\",inplace=True,axis=1)\n"
   ]
  },
  {
   "cell_type": "code",
   "execution_count": 12,
   "id": "3c516685",
   "metadata": {},
   "outputs": [],
   "source": [
    "\n",
    "year_2019 = year_2019.rename(columns={'Country or region': 'country', 'Score': 'happiness_score2019','GDP per capita': 'gpd_per_capita2019','Social support':'social_support2019','Healthy life expectancy': 'healthy_life_expectancy2019','Freedom to make life choices': 'freedom_to_make_life_choices2019'})"
   ]
  },
  {
   "cell_type": "code",
   "execution_count": null,
   "id": "55797e75",
   "metadata": {},
   "outputs": [],
   "source": [
    "\n"
   ]
  },
  {
   "cell_type": "code",
   "execution_count": 13,
   "id": "4d0e042b",
   "metadata": {},
   "outputs": [
    {
     "data": {
      "text/html": [
       "<div>\n",
       "<style scoped>\n",
       "    .dataframe tbody tr th:only-of-type {\n",
       "        vertical-align: middle;\n",
       "    }\n",
       "\n",
       "    .dataframe tbody tr th {\n",
       "        vertical-align: top;\n",
       "    }\n",
       "\n",
       "    .dataframe thead th {\n",
       "        text-align: right;\n",
       "    }\n",
       "</style>\n",
       "<table border=\"1\" class=\"dataframe\">\n",
       "  <thead>\n",
       "    <tr style=\"text-align: right;\">\n",
       "      <th></th>\n",
       "      <th>country</th>\n",
       "      <th>happiness_score2022</th>\n",
       "      <th>gpd_per_capita2022</th>\n",
       "      <th>social_support2022</th>\n",
       "      <th>healthy_life_expectancy2022</th>\n",
       "      <th>freedom_to_make_life_choices2022</th>\n",
       "    </tr>\n",
       "  </thead>\n",
       "  <tbody>\n",
       "    <tr>\n",
       "      <th>0</th>\n",
       "      <td>Finland</td>\n",
       "      <td>7.82</td>\n",
       "      <td>1.89</td>\n",
       "      <td>1.26</td>\n",
       "      <td>0.775</td>\n",
       "      <td>0.736</td>\n",
       "    </tr>\n",
       "    <tr>\n",
       "      <th>1</th>\n",
       "      <td>Denmark</td>\n",
       "      <td>7.64</td>\n",
       "      <td>1.95</td>\n",
       "      <td>1.24</td>\n",
       "      <td>0.777</td>\n",
       "      <td>0.719</td>\n",
       "    </tr>\n",
       "    <tr>\n",
       "      <th>2</th>\n",
       "      <td>Iceland</td>\n",
       "      <td>7.56</td>\n",
       "      <td>1.94</td>\n",
       "      <td>1.32</td>\n",
       "      <td>0.803</td>\n",
       "      <td>0.718</td>\n",
       "    </tr>\n",
       "    <tr>\n",
       "      <th>3</th>\n",
       "      <td>Switzerland</td>\n",
       "      <td>7.51</td>\n",
       "      <td>2.03</td>\n",
       "      <td>1.23</td>\n",
       "      <td>0.822</td>\n",
       "      <td>0.677</td>\n",
       "    </tr>\n",
       "    <tr>\n",
       "      <th>4</th>\n",
       "      <td>Netherlands</td>\n",
       "      <td>7.42</td>\n",
       "      <td>1.95</td>\n",
       "      <td>1.21</td>\n",
       "      <td>0.787</td>\n",
       "      <td>0.651</td>\n",
       "    </tr>\n",
       "    <tr>\n",
       "      <th>...</th>\n",
       "      <td>...</td>\n",
       "      <td>...</td>\n",
       "      <td>...</td>\n",
       "      <td>...</td>\n",
       "      <td>...</td>\n",
       "      <td>...</td>\n",
       "    </tr>\n",
       "    <tr>\n",
       "      <th>141</th>\n",
       "      <td>Botswana*</td>\n",
       "      <td>3.47</td>\n",
       "      <td>1.50</td>\n",
       "      <td>0.815</td>\n",
       "      <td>0.280</td>\n",
       "      <td>0.571</td>\n",
       "    </tr>\n",
       "    <tr>\n",
       "      <th>142</th>\n",
       "      <td>Rwanda*</td>\n",
       "      <td>3.27</td>\n",
       "      <td>0.785</td>\n",
       "      <td>0.133</td>\n",
       "      <td>0.462</td>\n",
       "      <td>0.621</td>\n",
       "    </tr>\n",
       "    <tr>\n",
       "      <th>143</th>\n",
       "      <td>Zimbabwe</td>\n",
       "      <td>3.00</td>\n",
       "      <td>0.947</td>\n",
       "      <td>0.690</td>\n",
       "      <td>0.270</td>\n",
       "      <td>0.329</td>\n",
       "    </tr>\n",
       "    <tr>\n",
       "      <th>144</th>\n",
       "      <td>Lebanon</td>\n",
       "      <td>2.96</td>\n",
       "      <td>1.39</td>\n",
       "      <td>0.498</td>\n",
       "      <td>0.631</td>\n",
       "      <td>0.103</td>\n",
       "    </tr>\n",
       "    <tr>\n",
       "      <th>145</th>\n",
       "      <td>Afghanistan</td>\n",
       "      <td>2.40</td>\n",
       "      <td>0.758</td>\n",
       "      <td>0.000</td>\n",
       "      <td>0.289</td>\n",
       "      <td>0.000</td>\n",
       "    </tr>\n",
       "  </tbody>\n",
       "</table>\n",
       "<p>146 rows × 6 columns</p>\n",
       "</div>"
      ],
      "text/plain": [
       "         country  happiness_score2022 gpd_per_capita2022 social_support2022  \\\n",
       "0        Finland                 7.82               1.89               1.26   \n",
       "1        Denmark                 7.64               1.95               1.24   \n",
       "2        Iceland                 7.56               1.94               1.32   \n",
       "3    Switzerland                 7.51               2.03               1.23   \n",
       "4    Netherlands                 7.42               1.95               1.21   \n",
       "..           ...                  ...                ...                ...   \n",
       "141    Botswana*                 3.47               1.50              0.815   \n",
       "142      Rwanda*                 3.27              0.785              0.133   \n",
       "143     Zimbabwe                 3.00              0.947              0.690   \n",
       "144      Lebanon                 2.96               1.39              0.498   \n",
       "145  Afghanistan                 2.40              0.758              0.000   \n",
       "\n",
       "    healthy_life_expectancy2022 freedom_to_make_life_choices2022  \n",
       "0                         0.775                            0.736  \n",
       "1                         0.777                            0.719  \n",
       "2                         0.803                            0.718  \n",
       "3                         0.822                            0.677  \n",
       "4                         0.787                            0.651  \n",
       "..                          ...                              ...  \n",
       "141                       0.280                            0.571  \n",
       "142                       0.462                            0.621  \n",
       "143                       0.270                            0.329  \n",
       "144                       0.631                            0.103  \n",
       "145                       0.289                            0.000  \n",
       "\n",
       "[146 rows x 6 columns]"
      ]
     },
     "execution_count": 13,
     "metadata": {},
     "output_type": "execute_result"
    }
   ],
   "source": [
    "year_2022\n"
   ]
  },
  {
   "cell_type": "code",
   "execution_count": null,
   "id": "258d06b6",
   "metadata": {},
   "outputs": [],
   "source": []
  },
  {
   "cell_type": "code",
   "execution_count": null,
   "id": "2e9fccb9",
   "metadata": {},
   "outputs": [],
   "source": []
  },
  {
   "cell_type": "code",
   "execution_count": null,
   "id": "f710fbb7",
   "metadata": {},
   "outputs": [],
   "source": []
  },
  {
   "cell_type": "markdown",
   "id": "9cface81",
   "metadata": {},
   "source": [
    "# Create Database Connection"
   ]
  },
  {
   "cell_type": "code",
   "execution_count": 14,
   "id": "8f9eafa7",
   "metadata": {},
   "outputs": [],
   "source": [
    "protocol=\"postgresql\"\n",
    "username=user\n",
    "password=password2\n",
    "host=\"localhost\"\n",
    "port=5432\n",
    "database_name=\"World_Happiness\"\n",
    "connection_string=f\"{protocol}://{username}:{password}@{host}:{port}/{database_name}\""
   ]
  },
  {
   "cell_type": "code",
   "execution_count": 16,
   "id": "87305390",
   "metadata": {},
   "outputs": [
    {
     "name": "stderr",
     "output_type": "stream",
     "text": [
      "C:\\Users\\kazek\\AppData\\Local\\Temp\\ipykernel_2980\\3440626619.py:2: SADeprecationWarning: The Engine.table_names() method is deprecated and will be removed in a future release.  Please refer to Inspector.get_table_names(). (deprecated since: 1.4)\n",
      "  engine.table_names()\n"
     ]
    },
    {
     "data": {
      "text/plain": [
       "['year_2022', 'year_2021', 'year_2020', 'year_2019']"
      ]
     },
     "execution_count": 16,
     "metadata": {},
     "output_type": "execute_result"
    }
   ],
   "source": [
    "engine=create_engine(connection_string)\n",
    "engine.table_names()"
   ]
  },
  {
   "cell_type": "code",
   "execution_count": 21,
   "id": "8d6300ff",
   "metadata": {},
   "outputs": [
    {
     "data": {
      "text/plain": [
       "146"
      ]
     },
     "execution_count": 21,
     "metadata": {},
     "output_type": "execute_result"
    }
   ],
   "source": [
    "year_2022.to_sql(name=\"year_2022\",con=engine,if_exists=\"append\", index=False)"
   ]
  },
  {
   "cell_type": "code",
   "execution_count": 18,
   "id": "f1660413",
   "metadata": {},
   "outputs": [
    {
     "data": {
      "text/plain": [
       "149"
      ]
     },
     "execution_count": 18,
     "metadata": {},
     "output_type": "execute_result"
    }
   ],
   "source": [
    "year_2021.to_sql(name=\"year_2021\",con=engine,if_exists=\"append\", index=False)"
   ]
  },
  {
   "cell_type": "code",
   "execution_count": 19,
   "id": "2faf40c3",
   "metadata": {},
   "outputs": [
    {
     "data": {
      "text/plain": [
       "153"
      ]
     },
     "execution_count": 19,
     "metadata": {},
     "output_type": "execute_result"
    }
   ],
   "source": [
    "year_2020.to_sql(name=\"year_2020\",con=engine,if_exists=\"append\", index=False)"
   ]
  },
  {
   "cell_type": "code",
   "execution_count": 20,
   "id": "5e6ef262",
   "metadata": {},
   "outputs": [
    {
     "data": {
      "text/plain": [
       "156"
      ]
     },
     "execution_count": 20,
     "metadata": {},
     "output_type": "execute_result"
    }
   ],
   "source": [
    "year_2019.to_sql(name=\"year_2019\",con=engine,if_exists=\"append\", index=False)"
   ]
  },
  {
   "cell_type": "code",
   "execution_count": null,
   "id": "ad5ee581",
   "metadata": {},
   "outputs": [],
   "source": []
  }
 ],
 "metadata": {
  "kernelspec": {
   "display_name": "Python 3 (ipykernel)",
   "language": "python",
   "name": "python3"
  },
  "language_info": {
   "codemirror_mode": {
    "name": "ipython",
    "version": 3
   },
   "file_extension": ".py",
   "mimetype": "text/x-python",
   "name": "python",
   "nbconvert_exporter": "python",
   "pygments_lexer": "ipython3",
   "version": "3.9.12"
  }
 },
 "nbformat": 4,
 "nbformat_minor": 5
}
