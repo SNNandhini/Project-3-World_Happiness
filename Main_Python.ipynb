{
 "cells": [
  {
   "cell_type": "markdown",
   "id": "e283e871",
   "metadata": {},
   "source": [
    "# Importing Modules and CSV files"
   ]
  },
  {
   "cell_type": "code",
   "execution_count": 1,
   "id": "04299de8",
   "metadata": {},
   "outputs": [],
   "source": [
    "import pandas as pd\n",
    "from sqlalchemy import create_engine\n",
    "from config import user\n",
    "from config import password2\n",
    "from urllib import parse"
   ]
  },
  {
   "cell_type": "code",
   "execution_count": null,
   "id": "78be2131",
   "metadata": {},
   "outputs": [],
   "source": []
  },
  {
   "cell_type": "code",
   "execution_count": 2,
   "id": "62fa151e",
   "metadata": {},
   "outputs": [],
   "source": [
    "year_2022=pd.read_csv(\"./Resources/2022.csv\")\n",
    "year_2021=pd.read_csv(\"./Resources/2021.csv\")\n",
    "year_2020=pd.read_csv(\"./Resources/2020.csv\")\n",
    "year_2019=pd.read_csv(\"./Resources/2019.csv\")\n",
    "coordinates=pd.read_csv(\"./Resources/country_coord.csv\")"
   ]
  },
  {
   "cell_type": "markdown",
   "id": "5f0b1275",
   "metadata": {},
   "source": [
    "# Data Cleaning"
   ]
  },
  {
   "cell_type": "markdown",
   "id": "9ab80bab",
   "metadata": {},
   "source": [
    "YEAR 2022"
   ]
  },
  {
   "cell_type": "code",
   "execution_count": 3,
   "id": "9b43e7ff",
   "metadata": {},
   "outputs": [],
   "source": [
    "year_2022.drop(\"RANK\",inplace=True,axis=1)\n",
    "year_2022.drop(\"Whisker-high\",inplace=True,axis=1)\n",
    "year_2022.drop(\"Whisker-low\",inplace=True,axis=1)\n",
    "year_2022.drop(\"Dystopia (1.83) + residual\",inplace=True,axis=1)\n",
    "year_2022.drop(\"Explained by: Generosity\",inplace=True,axis=1)\n",
    "year_2022.drop(\"Explained by: Perceptions of corruption\",inplace=True,axis=1)"
   ]
  },
  {
   "cell_type": "code",
   "execution_count": 4,
   "id": "241e2c5a",
   "metadata": {},
   "outputs": [],
   "source": [
    "\n",
    "year_2022 = year_2022.rename(columns={'Country': 'country', 'Happiness score': 'happiness_score','Explained by: GDP per capita': 'gpd_per_capita','Explained by: Social support':'social_support','Explained by: Healthy life expectancy': 'healthy_life_expectancy','Explained by: Freedom to make life choices': 'freedom_to_make_life_choices'})"
   ]
  },
  {
   "cell_type": "code",
   "execution_count": 5,
   "id": "3386b747",
   "metadata": {},
   "outputs": [],
   "source": [
    "year_2022[\"gpd_per_capita\"] = year_2022[\"gpd_per_capita\"].str.replace(\",\", \".\")\n",
    "year_2022[\"social_support\"] = year_2022[\"social_support\"].str.replace(\",\", \".\")\n",
    "year_2022[\"healthy_life_expectancy\"] = year_2022[\"healthy_life_expectancy\"].str.replace(\",\", \".\")\n",
    "year_2022[\"freedom_to_make_life_choices\"] = year_2022[\"freedom_to_make_life_choices\"].str.replace(\",\", \".\")\n",
    "\n"
   ]
  },
  {
   "cell_type": "markdown",
   "id": "d0cb53b3",
   "metadata": {},
   "source": [
    "YEAR 2021"
   ]
  },
  {
   "cell_type": "code",
   "execution_count": 6,
   "id": "5d07ce2c",
   "metadata": {},
   "outputs": [],
   "source": [
    "year_2021.drop(\"Regional indicator\",inplace=True,axis=1)\n",
    "year_2021.drop(\"Standard error of ladder score\",inplace=True,axis=1)\n",
    "year_2021.drop(\"upperwhisker\",inplace=True,axis=1)\n",
    "year_2021.drop(\"lowerwhisker\",inplace=True,axis=1)\n",
    "year_2021.drop(\"Logged GDP per capita\",inplace=True,axis=1)\n",
    "year_2021.drop(\"Social support\",inplace=True,axis=1)\n",
    "year_2021.drop(\"Healthy life expectancy\",inplace=True,axis=1)\n",
    "year_2021.drop(\"Freedom to make life choices\",inplace=True,axis=1)\n",
    "year_2021.drop(\"Generosity\",inplace=True,axis=1)\n",
    "year_2021.drop(\"Perceptions of corruption\",inplace=True,axis=1)\n",
    "year_2021.drop(\"Ladder score in Dystopia\",inplace=True,axis=1)\n",
    "year_2021.drop(\"Explained by: Generosity\",inplace=True,axis=1)\n",
    "year_2021.drop(\"Explained by: Perceptions of corruption\",inplace=True,axis=1)\n",
    "year_2021.drop(\"Dystopia + residual\",inplace=True,axis=1)\n",
    "\n"
   ]
  },
  {
   "cell_type": "code",
   "execution_count": 7,
   "id": "ab12d98f",
   "metadata": {},
   "outputs": [],
   "source": [
    "\n",
    "year_2021 = year_2021.rename(columns={'Country name': 'country', 'Ladder score': 'happiness_score','Explained by: Log GDP per capita': 'gpd_per_capita','Explained by: Social support':'social_support','Explained by: Healthy life expectancy': 'healthy_life_expectancy','Explained by: Freedom to make life choices': 'freedom_to_make_life_choices'})"
   ]
  },
  {
   "cell_type": "markdown",
   "id": "425215cd",
   "metadata": {},
   "source": [
    "YEAR 2020"
   ]
  },
  {
   "cell_type": "code",
   "execution_count": 8,
   "id": "65c17c5c",
   "metadata": {},
   "outputs": [],
   "source": [
    "year_2020.drop(\"Regional indicator\",inplace=True,axis=1)\n",
    "year_2020.drop(\"Standard error of ladder score\",inplace=True,axis=1)\n",
    "year_2020.drop(\"upperwhisker\",inplace=True,axis=1)\n",
    "year_2020.drop(\"lowerwhisker\",inplace=True,axis=1)\n",
    "year_2020.drop(\"Logged GDP per capita\",inplace=True,axis=1)\n",
    "year_2020.drop(\"Social support\",inplace=True,axis=1)\n",
    "year_2020.drop(\"Healthy life expectancy\",inplace=True,axis=1)\n",
    "year_2020.drop(\"Freedom to make life choices\",inplace=True,axis=1)\n",
    "year_2020.drop(\"Generosity\",inplace=True,axis=1)\n",
    "year_2020.drop(\"Perceptions of corruption\",inplace=True,axis=1)\n",
    "year_2020.drop(\"Ladder score in Dystopia\",inplace=True,axis=1)\n",
    "year_2020.drop(\"Explained by: Generosity\",inplace=True,axis=1)\n",
    "year_2020.drop(\"Explained by: Perceptions of corruption\",inplace=True,axis=1)\n",
    "year_2020.drop(\"Dystopia + residual\",inplace=True,axis=1)"
   ]
  },
  {
   "cell_type": "code",
   "execution_count": 9,
   "id": "f8f922f7",
   "metadata": {},
   "outputs": [],
   "source": [
    "\n",
    "year_2020 = year_2020.rename(columns={'Country name': 'country', 'Ladder score': 'happiness_score','Explained by: Log GDP per capita': 'gpd_per_capita','Explained by: Social support':'social_support','Explained by: Healthy life expectancy': 'healthy_life_expectancy','Explained by: Freedom to make life choices': 'freedom_to_make_life_choices'})"
   ]
  },
  {
   "cell_type": "markdown",
   "id": "f3c2002a",
   "metadata": {},
   "source": [
    "YEAR 2019"
   ]
  },
  {
   "cell_type": "code",
   "execution_count": 10,
   "id": "3781e385",
   "metadata": {},
   "outputs": [],
   "source": [
    "year_2019.drop(\"Overall rank\",inplace=True,axis=1)\n",
    "year_2019.drop(\"Generosity\",inplace=True,axis=1)\n",
    "year_2019.drop(\"Perceptions of corruption\",inplace=True,axis=1)\n"
   ]
  },
  {
   "cell_type": "code",
   "execution_count": 11,
   "id": "3c516685",
   "metadata": {},
   "outputs": [],
   "source": [
    "\n",
    "year_2019 = year_2019.rename(columns={'Country or region': 'country', 'Score': 'happiness_score','GDP per capita': 'gpd_per_capita','Social support':'social_support','Healthy life expectancy': 'healthy_life_expectancy','Freedom to make life choices': 'freedom_to_make_life_choices'})"
   ]
  },
  {
   "cell_type": "markdown",
   "id": "ccb99bdf",
   "metadata": {},
   "source": [
    "COORDINATES"
   ]
  },
  {
   "cell_type": "code",
   "execution_count": null,
   "id": "4d0e042b",
   "metadata": {},
   "outputs": [],
   "source": []
  },
  {
   "cell_type": "code",
   "execution_count": 12,
   "id": "933be4a7",
   "metadata": {},
   "outputs": [],
   "source": [
    "coordinates.drop(\"Alpha-2 code\",inplace=True,axis=1)\n",
    "coordinates.drop(\"Alpha-3 code\",inplace=True,axis=1)\n",
    "coordinates.drop(\"Numeric code\",inplace=True,axis=1)\n"
   ]
  },
  {
   "cell_type": "code",
   "execution_count": 13,
   "id": "258d06b6",
   "metadata": {},
   "outputs": [],
   "source": [
    "\n",
    "coordinates = coordinates.rename(columns={'Country': 'country', 'Latitude (average)': 'latitude','Longitude (average)': 'longtitude'})"
   ]
  },
  {
   "cell_type": "code",
   "execution_count": 14,
   "id": "2e9fccb9",
   "metadata": {},
   "outputs": [
    {
     "data": {
      "text/html": [
       "<div>\n",
       "<style scoped>\n",
       "    .dataframe tbody tr th:only-of-type {\n",
       "        vertical-align: middle;\n",
       "    }\n",
       "\n",
       "    .dataframe tbody tr th {\n",
       "        vertical-align: top;\n",
       "    }\n",
       "\n",
       "    .dataframe thead th {\n",
       "        text-align: right;\n",
       "    }\n",
       "</style>\n",
       "<table border=\"1\" class=\"dataframe\">\n",
       "  <thead>\n",
       "    <tr style=\"text-align: right;\">\n",
       "      <th></th>\n",
       "      <th>country</th>\n",
       "      <th>happiness_score</th>\n",
       "      <th>gpd_per_capita</th>\n",
       "      <th>social_support</th>\n",
       "      <th>healthy_life_expectancy</th>\n",
       "      <th>freedom_to_make_life_choices</th>\n",
       "    </tr>\n",
       "  </thead>\n",
       "  <tbody>\n",
       "    <tr>\n",
       "      <th>0</th>\n",
       "      <td>Finland</td>\n",
       "      <td>7.769</td>\n",
       "      <td>1.340</td>\n",
       "      <td>1.587</td>\n",
       "      <td>0.986</td>\n",
       "      <td>0.596</td>\n",
       "    </tr>\n",
       "    <tr>\n",
       "      <th>1</th>\n",
       "      <td>Denmark</td>\n",
       "      <td>7.600</td>\n",
       "      <td>1.383</td>\n",
       "      <td>1.573</td>\n",
       "      <td>0.996</td>\n",
       "      <td>0.592</td>\n",
       "    </tr>\n",
       "    <tr>\n",
       "      <th>2</th>\n",
       "      <td>Norway</td>\n",
       "      <td>7.554</td>\n",
       "      <td>1.488</td>\n",
       "      <td>1.582</td>\n",
       "      <td>1.028</td>\n",
       "      <td>0.603</td>\n",
       "    </tr>\n",
       "    <tr>\n",
       "      <th>3</th>\n",
       "      <td>Iceland</td>\n",
       "      <td>7.494</td>\n",
       "      <td>1.380</td>\n",
       "      <td>1.624</td>\n",
       "      <td>1.026</td>\n",
       "      <td>0.591</td>\n",
       "    </tr>\n",
       "    <tr>\n",
       "      <th>4</th>\n",
       "      <td>Netherlands</td>\n",
       "      <td>7.488</td>\n",
       "      <td>1.396</td>\n",
       "      <td>1.522</td>\n",
       "      <td>0.999</td>\n",
       "      <td>0.557</td>\n",
       "    </tr>\n",
       "    <tr>\n",
       "      <th>...</th>\n",
       "      <td>...</td>\n",
       "      <td>...</td>\n",
       "      <td>...</td>\n",
       "      <td>...</td>\n",
       "      <td>...</td>\n",
       "      <td>...</td>\n",
       "    </tr>\n",
       "    <tr>\n",
       "      <th>151</th>\n",
       "      <td>Rwanda</td>\n",
       "      <td>3.334</td>\n",
       "      <td>0.359</td>\n",
       "      <td>0.711</td>\n",
       "      <td>0.614</td>\n",
       "      <td>0.555</td>\n",
       "    </tr>\n",
       "    <tr>\n",
       "      <th>152</th>\n",
       "      <td>Tanzania</td>\n",
       "      <td>3.231</td>\n",
       "      <td>0.476</td>\n",
       "      <td>0.885</td>\n",
       "      <td>0.499</td>\n",
       "      <td>0.417</td>\n",
       "    </tr>\n",
       "    <tr>\n",
       "      <th>153</th>\n",
       "      <td>Afghanistan</td>\n",
       "      <td>3.203</td>\n",
       "      <td>0.350</td>\n",
       "      <td>0.517</td>\n",
       "      <td>0.361</td>\n",
       "      <td>0.000</td>\n",
       "    </tr>\n",
       "    <tr>\n",
       "      <th>154</th>\n",
       "      <td>Central African Republic</td>\n",
       "      <td>3.083</td>\n",
       "      <td>0.026</td>\n",
       "      <td>0.000</td>\n",
       "      <td>0.105</td>\n",
       "      <td>0.225</td>\n",
       "    </tr>\n",
       "    <tr>\n",
       "      <th>155</th>\n",
       "      <td>South Sudan</td>\n",
       "      <td>2.853</td>\n",
       "      <td>0.306</td>\n",
       "      <td>0.575</td>\n",
       "      <td>0.295</td>\n",
       "      <td>0.010</td>\n",
       "    </tr>\n",
       "  </tbody>\n",
       "</table>\n",
       "<p>156 rows × 6 columns</p>\n",
       "</div>"
      ],
      "text/plain": [
       "                      country  happiness_score  gpd_per_capita  \\\n",
       "0                     Finland            7.769           1.340   \n",
       "1                     Denmark            7.600           1.383   \n",
       "2                      Norway            7.554           1.488   \n",
       "3                     Iceland            7.494           1.380   \n",
       "4                 Netherlands            7.488           1.396   \n",
       "..                        ...              ...             ...   \n",
       "151                    Rwanda            3.334           0.359   \n",
       "152                  Tanzania            3.231           0.476   \n",
       "153               Afghanistan            3.203           0.350   \n",
       "154  Central African Republic            3.083           0.026   \n",
       "155               South Sudan            2.853           0.306   \n",
       "\n",
       "     social_support  healthy_life_expectancy  freedom_to_make_life_choices  \n",
       "0             1.587                    0.986                         0.596  \n",
       "1             1.573                    0.996                         0.592  \n",
       "2             1.582                    1.028                         0.603  \n",
       "3             1.624                    1.026                         0.591  \n",
       "4             1.522                    0.999                         0.557  \n",
       "..              ...                      ...                           ...  \n",
       "151           0.711                    0.614                         0.555  \n",
       "152           0.885                    0.499                         0.417  \n",
       "153           0.517                    0.361                         0.000  \n",
       "154           0.000                    0.105                         0.225  \n",
       "155           0.575                    0.295                         0.010  \n",
       "\n",
       "[156 rows x 6 columns]"
      ]
     },
     "execution_count": 14,
     "metadata": {},
     "output_type": "execute_result"
    }
   ],
   "source": [
    "year_2019\n"
   ]
  },
  {
   "cell_type": "code",
   "execution_count": null,
   "id": "f710fbb7",
   "metadata": {},
   "outputs": [],
   "source": []
  },
  {
   "cell_type": "markdown",
   "id": "9cface81",
   "metadata": {},
   "source": [
    "# Create Database Connection"
   ]
  },
  {
   "cell_type": "code",
   "execution_count": 18,
   "id": "8f9eafa7",
   "metadata": {},
   "outputs": [],
   "source": [
    "protocol=\"postgresql\"\n",
    "username=user\n",
    "password=parse.quote(password2)\n",
    "host=\"localhost\"\n",
    "port=5432\n",
    "database_name=\"World_Happiness\"\n",
    "connection_string=f\"{protocol}://{username}:{password}@{host}:{port}/{database_name}\""
   ]
  },
  {
   "cell_type": "code",
   "execution_count": 19,
   "id": "87305390",
   "metadata": {},
   "outputs": [
    {
     "name": "stderr",
     "output_type": "stream",
     "text": [
      "C:\\Users\\kazek\\AppData\\Local\\Temp\\ipykernel_7196\\3440626619.py:2: SADeprecationWarning: The Engine.table_names() method is deprecated and will be removed in a future release.  Please refer to Inspector.get_table_names(). (deprecated since: 1.4)\n",
      "  engine.table_names()\n"
     ]
    },
    {
     "data": {
      "text/plain": [
       "['year_2022', 'year_2021', 'year_2020', 'year_2019', 'coordinates']"
      ]
     },
     "execution_count": 19,
     "metadata": {},
     "output_type": "execute_result"
    }
   ],
   "source": [
    "engine=create_engine(connection_string)\n",
    "engine.table_names()"
   ]
  },
  {
   "cell_type": "code",
   "execution_count": 20,
   "id": "8d6300ff",
   "metadata": {},
   "outputs": [
    {
     "data": {
      "text/plain": [
       "146"
      ]
     },
     "execution_count": 20,
     "metadata": {},
     "output_type": "execute_result"
    }
   ],
   "source": [
    "year_2022.to_sql(name=\"year_2022\",con=engine,if_exists=\"append\", index=False)"
   ]
  },
  {
   "cell_type": "code",
   "execution_count": 21,
   "id": "f1660413",
   "metadata": {},
   "outputs": [
    {
     "data": {
      "text/plain": [
       "149"
      ]
     },
     "execution_count": 21,
     "metadata": {},
     "output_type": "execute_result"
    }
   ],
   "source": [
    "year_2021.to_sql(name=\"year_2021\",con=engine,if_exists=\"append\", index=False)"
   ]
  },
  {
   "cell_type": "code",
   "execution_count": 22,
   "id": "2faf40c3",
   "metadata": {},
   "outputs": [
    {
     "data": {
      "text/plain": [
       "153"
      ]
     },
     "execution_count": 22,
     "metadata": {},
     "output_type": "execute_result"
    }
   ],
   "source": [
    "year_2020.to_sql(name=\"year_2020\",con=engine,if_exists=\"append\", index=False)"
   ]
  },
  {
   "cell_type": "code",
   "execution_count": 23,
   "id": "5e6ef262",
   "metadata": {},
   "outputs": [
    {
     "data": {
      "text/plain": [
       "156"
      ]
     },
     "execution_count": 23,
     "metadata": {},
     "output_type": "execute_result"
    }
   ],
   "source": [
    "year_2019.to_sql(name=\"year_2019\",con=engine,if_exists=\"append\", index=False)"
   ]
  },
  {
   "cell_type": "code",
   "execution_count": 24,
   "id": "ad5ee581",
   "metadata": {},
   "outputs": [
    {
     "data": {
      "text/plain": [
       "244"
      ]
     },
     "execution_count": 24,
     "metadata": {},
     "output_type": "execute_result"
    }
   ],
   "source": [
    "coordinates.to_sql(name=\"coordinates\",con=engine,if_exists=\"append\", index=False)"
   ]
  },
  {
   "cell_type": "code",
   "execution_count": null,
   "id": "5fc32850",
   "metadata": {},
   "outputs": [],
   "source": []
  },
  {
   "cell_type": "code",
   "execution_count": null,
   "id": "551f8638",
   "metadata": {},
   "outputs": [],
   "source": []
  }
 ],
 "metadata": {
  "kernelspec": {
   "display_name": "Python 3 (ipykernel)",
   "language": "python",
   "name": "python3"
  },
  "language_info": {
   "codemirror_mode": {
    "name": "ipython",
    "version": 3
   },
   "file_extension": ".py",
   "mimetype": "text/x-python",
   "name": "python",
   "nbconvert_exporter": "python",
   "pygments_lexer": "ipython3",
   "version": "3.9.12"
  }
 },
 "nbformat": 4,
 "nbformat_minor": 5
}
