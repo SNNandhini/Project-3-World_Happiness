{
 "cells": [
  {
   "cell_type": "markdown",
   "id": "e283e871",
   "metadata": {},
   "source": [
    "# Importing Modules and CSV files"
   ]
  },
  {
   "cell_type": "code",
   "execution_count": 2,
   "id": "04299de8",
   "metadata": {},
   "outputs": [],
   "source": [
    "import pandas as pd\n",
    "from sqlalchemy import create_engine\n",
    "from config import user\n",
    "from config import password2\n",
    "from urllib import parse\n"
   ]
  },
  {
   "cell_type": "code",
   "execution_count": 3,
   "id": "62fa151e",
   "metadata": {},
   "outputs": [],
   "source": [
    "year_2022=pd.read_csv(\"./Resources/2022.csv\")\n",
    "year_2021=pd.read_csv(\"./Resources/2021.csv\")\n",
    "year_2020=pd.read_csv(\"./Resources/2020.csv\")\n",
    "year_2019=pd.read_csv(\"./Resources/2019.csv\")\n",
    "year_2018=pd.read_csv(\"./Resources/2018.csv\")\n",
    "coordinates=pd.read_csv(\"./Resources/country_coord.csv\")"
   ]
  },
  {
   "cell_type": "markdown",
   "id": "5f0b1275",
   "metadata": {},
   "source": [
    "# Data Cleaning"
   ]
  },
  {
   "cell_type": "markdown",
   "id": "9ab80bab",
   "metadata": {},
   "source": [
    "YEAR 2022"
   ]
  },
  {
   "cell_type": "code",
   "execution_count": 4,
   "id": "9b43e7ff",
   "metadata": {},
   "outputs": [],
   "source": [
    "year_2022.drop(\"RANK\",inplace=True,axis=1)\n",
    "year_2022.drop(\"Whisker-high\",inplace=True,axis=1)\n",
    "year_2022.drop(\"Whisker-low\",inplace=True,axis=1)\n",
    "year_2022.drop(\"Dystopia (1.83) + residual\",inplace=True,axis=1)\n",
    "year_2022.drop(\"Explained by: Generosity\",inplace=True,axis=1)\n",
    "year_2022.drop(\"Explained by: Perceptions of corruption\",inplace=True,axis=1)"
   ]
  },
  {
   "cell_type": "code",
   "execution_count": 5,
   "id": "241e2c5a",
   "metadata": {},
   "outputs": [],
   "source": [
    "\n",
    "year_2022 = year_2022.rename(columns={'Country': 'country', 'Happiness score': 'happiness_score2022','Explained by: GDP per capita': 'gpd_per_capita2022','Explained by: Social support':'social_support2022','Explained by: Healthy life expectancy': 'healthy_life_expectancy2022','Explained by: Freedom to make life choices': 'freedom_to_make_life_choices2022'})"
   ]
  },
  {
   "cell_type": "code",
   "execution_count": 6,
   "id": "3386b747",
   "metadata": {},
   "outputs": [],
   "source": [
    "year_2022[\"gpd_per_capita2022\"] = year_2022[\"gpd_per_capita2022\"].str.replace(\",\", \".\")\n",
    "year_2022[\"social_support2022\"] = year_2022[\"social_support2022\"].str.replace(\",\", \".\")\n",
    "year_2022[\"healthy_life_expectancy2022\"] = year_2022[\"healthy_life_expectancy2022\"].str.replace(\",\", \".\")\n",
    "year_2022[\"freedom_to_make_life_choices2022\"] = year_2022[\"freedom_to_make_life_choices2022\"].str.replace(\",\", \".\")\n",
    "\n"
   ]
  },
  {
   "cell_type": "markdown",
   "id": "d0cb53b3",
   "metadata": {},
   "source": [
    "YEAR 2021"
   ]
  },
  {
   "cell_type": "code",
   "execution_count": 7,
   "id": "5d07ce2c",
   "metadata": {},
   "outputs": [],
   "source": [
    "year_2021.drop(\"Regional indicator\",inplace=True,axis=1)\n",
    "year_2021.drop(\"Standard error of ladder score\",inplace=True,axis=1)\n",
    "year_2021.drop(\"upperwhisker\",inplace=True,axis=1)\n",
    "year_2021.drop(\"lowerwhisker\",inplace=True,axis=1)\n",
    "year_2021.drop(\"Logged GDP per capita\",inplace=True,axis=1)\n",
    "year_2021.drop(\"Social support\",inplace=True,axis=1)\n",
    "year_2021.drop(\"Healthy life expectancy\",inplace=True,axis=1)\n",
    "year_2021.drop(\"Freedom to make life choices\",inplace=True,axis=1)\n",
    "year_2021.drop(\"Generosity\",inplace=True,axis=1)\n",
    "year_2021.drop(\"Perceptions of corruption\",inplace=True,axis=1)\n",
    "year_2021.drop(\"Ladder score in Dystopia\",inplace=True,axis=1)\n",
    "year_2021.drop(\"Explained by: Generosity\",inplace=True,axis=1)\n",
    "year_2021.drop(\"Explained by: Perceptions of corruption\",inplace=True,axis=1)\n",
    "year_2021.drop(\"Dystopia + residual\",inplace=True,axis=1)\n",
    "\n"
   ]
  },
  {
   "cell_type": "code",
   "execution_count": 8,
   "id": "ab12d98f",
   "metadata": {},
   "outputs": [],
   "source": [
    "\n",
    "year_2021 = year_2021.rename(columns={'Country name': 'country', 'Ladder score': 'happiness_score2021','Explained by: Log GDP per capita': 'gpd_per_capita2021','Explained by: Social support':'social_support2021','Explained by: Healthy life expectancy': 'healthy_life_expectancy2021','Explained by: Freedom to make life choices': 'freedom_to_make_life_choices2021'})"
   ]
  },
  {
   "cell_type": "markdown",
   "id": "425215cd",
   "metadata": {},
   "source": [
    "YEAR 2020"
   ]
  },
  {
   "cell_type": "code",
   "execution_count": 9,
   "id": "65c17c5c",
   "metadata": {},
   "outputs": [],
   "source": [
    "year_2020.drop(\"Regional indicator\",inplace=True,axis=1)\n",
    "year_2020.drop(\"Standard error of ladder score\",inplace=True,axis=1)\n",
    "year_2020.drop(\"upperwhisker\",inplace=True,axis=1)\n",
    "year_2020.drop(\"lowerwhisker\",inplace=True,axis=1)\n",
    "year_2020.drop(\"Logged GDP per capita\",inplace=True,axis=1)\n",
    "year_2020.drop(\"Social support\",inplace=True,axis=1)\n",
    "year_2020.drop(\"Healthy life expectancy\",inplace=True,axis=1)\n",
    "year_2020.drop(\"Freedom to make life choices\",inplace=True,axis=1)\n",
    "year_2020.drop(\"Generosity\",inplace=True,axis=1)\n",
    "year_2020.drop(\"Perceptions of corruption\",inplace=True,axis=1)\n",
    "year_2020.drop(\"Ladder score in Dystopia\",inplace=True,axis=1)\n",
    "year_2020.drop(\"Explained by: Generosity\",inplace=True,axis=1)\n",
    "year_2020.drop(\"Explained by: Perceptions of corruption\",inplace=True,axis=1)\n",
    "year_2020.drop(\"Dystopia + residual\",inplace=True,axis=1)"
   ]
  },
  {
   "cell_type": "code",
   "execution_count": 10,
   "id": "f8f922f7",
   "metadata": {},
   "outputs": [],
   "source": [
    "\n",
    "year_2020 = year_2020.rename(columns={'Country name': 'country', 'Ladder score': 'happiness_score2020','Explained by: Log GDP per capita': 'gpd_per_capita2020','Explained by: Social support':'social_support2020','Explained by: Healthy life expectancy': 'healthy_life_expectancy2020','Explained by: Freedom to make life choices': 'freedom_to_make_life_choices2020'})"
   ]
  },
  {
   "cell_type": "markdown",
   "id": "f3c2002a",
   "metadata": {},
   "source": [
    "YEAR 2019"
   ]
  },
  {
   "cell_type": "code",
   "execution_count": 11,
   "id": "3781e385",
   "metadata": {},
   "outputs": [],
   "source": [
    "year_2019.drop(\"Overall rank\",inplace=True,axis=1)\n",
    "year_2019.drop(\"Generosity\",inplace=True,axis=1)\n",
    "year_2019.drop(\"Perceptions of corruption\",inplace=True,axis=1)\n"
   ]
  },
  {
   "cell_type": "code",
   "execution_count": 12,
   "id": "3c516685",
   "metadata": {},
   "outputs": [],
   "source": [
    "\n",
    "year_2019 = year_2019.rename(columns={'Country or region': 'country', 'Score': 'happiness_score2019','GDP per capita': 'gpd_per_capita2019','Social support':'social_support2019','Healthy life expectancy': 'healthy_life_expectancy2019','Freedom to make life choices': 'freedom_to_make_life_choices2019'})"
   ]
  },
  {
   "cell_type": "markdown",
   "id": "ccb99bdf",
   "metadata": {},
   "source": [
    "COORDINATES"
   ]
  },
  {
   "cell_type": "code",
   "execution_count": null,
   "id": "4d0e042b",
   "metadata": {},
   "outputs": [],
   "source": []
  },
  {
   "cell_type": "code",
   "execution_count": 13,
   "id": "933be4a7",
   "metadata": {},
   "outputs": [],
   "source": [
    "coordinates.drop(\"Alpha-2 code\",inplace=True,axis=1)\n",
    "coordinates.drop(\"Alpha-3 code\",inplace=True,axis=1)\n",
    "coordinates.drop(\"Numeric code\",inplace=True,axis=1)\n"
   ]
  },
  {
   "cell_type": "code",
   "execution_count": 14,
   "id": "258d06b6",
   "metadata": {},
   "outputs": [],
   "source": [
    "\n",
    "coordinates = coordinates.rename(columns={'Country': 'country', 'Latitude (average)': 'latitude','Longitude (average)': 'longtitude'})"
   ]
  },
  {
   "cell_type": "code",
   "execution_count": null,
   "id": "2e9fccb9",
   "metadata": {},
   "outputs": [],
   "source": []
  },
  {
   "cell_type": "code",
   "execution_count": null,
   "id": "f710fbb7",
   "metadata": {},
   "outputs": [],
   "source": []
  },
  {
   "cell_type": "markdown",
   "id": "9cface81",
   "metadata": {},
   "source": [
    "# Create Database Connection"
   ]
  },
  {
   "cell_type": "code",
   "execution_count": 17,
   "id": "8f9eafa7",
   "metadata": {},
   "outputs": [],
   "source": [
    "protocol=\"postgresql\"\n",
    "username=user\n",
    "password = parse.quote(password2)\n",
    "host=\"localhost\"\n",
    "port=5432\n",
    "database_name=\"World_Happiness\"\n",
    "connection_string=f\"{protocol}://{username}:{password}@{host}:{port}/{database_name}\""
   ]
  },
  {
   "cell_type": "code",
   "execution_count": 18,
   "id": "87305390",
   "metadata": {},
   "outputs": [
    {
     "name": "stderr",
     "output_type": "stream",
     "text": [
      "C:\\Users\\badri\\AppData\\Local\\Temp\\ipykernel_17468\\3440626619.py:2: SADeprecationWarning: The Engine.table_names() method is deprecated and will be removed in a future release.  Please refer to Inspector.get_table_names(). (deprecated since: 1.4)\n",
      "  engine.table_names()\n"
     ]
    },
    {
     "data": {
      "text/plain": [
       "['year_2022', 'year_2021', 'year_2020', 'year_2019']"
      ]
     },
     "execution_count": 18,
     "metadata": {},
     "output_type": "execute_result"
    }
   ],
   "source": [
    "engine=create_engine(connection_string)\n",
    "engine.table_names()"
   ]
  },
  {
   "cell_type": "code",
   "execution_count": 19,
   "id": "8d6300ff",
   "metadata": {},
   "outputs": [
    {
     "ename": "IntegrityError",
     "evalue": "(psycopg2.errors.UniqueViolation) duplicate key value violates unique constraint \"year_2022_pkey\"\nDETAIL:  Key (country)=(Finland) already exists.\n\n[SQL: INSERT INTO year_2022 (country, happiness_score2022, gpd_per_capita2022, social_support2022, healthy_life_expectancy2022, freedom_to_make_life_choices2022) VALUES (%(country)s, %(happiness_score2022)s, %(gpd_per_capita2022)s, %(social_support2022)s, %(healthy_life_expectancy2022)s, %(freedom_to_make_life_choices2022)s)]\n[parameters: ({'country': 'Finland', 'happiness_score2022': 7.82, 'gpd_per_capita2022': '1.89', 'social_support2022': '1.26', 'healthy_life_expectancy2022': '0.775', 'freedom_to_make_life_choices2022': '0.736'}, {'country': 'Denmark', 'happiness_score2022': 7.64, 'gpd_per_capita2022': '1.95', 'social_support2022': '1.24', 'healthy_life_expectancy2022': '0.777', 'freedom_to_make_life_choices2022': '0.719'}, {'country': 'Iceland', 'happiness_score2022': 7.56, 'gpd_per_capita2022': '1.94', 'social_support2022': '1.32', 'healthy_life_expectancy2022': '0.803', 'freedom_to_make_life_choices2022': '0.718'}, {'country': 'Switzerland', 'happiness_score2022': 7.51, 'gpd_per_capita2022': '2.03', 'social_support2022': '1.23', 'healthy_life_expectancy2022': '0.822', 'freedom_to_make_life_choices2022': '0.677'}, {'country': 'Netherlands', 'happiness_score2022': 7.42, 'gpd_per_capita2022': '1.95', 'social_support2022': '1.21', 'healthy_life_expectancy2022': '0.787', 'freedom_to_make_life_choices2022': '0.651'}, {'country': 'Luxembourg*', 'happiness_score2022': 7.4, 'gpd_per_capita2022': '2.21', 'social_support2022': '1.16', 'healthy_life_expectancy2022': '0.790', 'freedom_to_make_life_choices2022': '0.700'}, {'country': 'Sweden', 'happiness_score2022': 7.38, 'gpd_per_capita2022': '1.92', 'social_support2022': '1.20', 'healthy_life_expectancy2022': '0.803', 'freedom_to_make_life_choices2022': '0.724'}, {'country': 'Norway', 'happiness_score2022': 7.37, 'gpd_per_capita2022': '2.00', 'social_support2022': '1.24', 'healthy_life_expectancy2022': '0.786', 'freedom_to_make_life_choices2022': '0.728'}  ... displaying 10 of 146 total bound parameter sets ...  {'country': 'Lebanon', 'happiness_score2022': 2.96, 'gpd_per_capita2022': '1.39', 'social_support2022': '0.498', 'healthy_life_expectancy2022': '0.631', 'freedom_to_make_life_choices2022': '0.103'}, {'country': 'Afghanistan', 'happiness_score2022': 2.4, 'gpd_per_capita2022': '0.758', 'social_support2022': '0.000', 'healthy_life_expectancy2022': '0.289', 'freedom_to_make_life_choices2022': '0.000'})]\n(Background on this error at: https://sqlalche.me/e/14/gkpj)",
     "output_type": "error",
     "traceback": [
      "\u001b[1;31m---------------------------------------------------------------------------\u001b[0m",
      "\u001b[1;31mUniqueViolation\u001b[0m                           Traceback (most recent call last)",
      "File \u001b[1;32mc:\\Users\\badri\\anaconda3\\lib\\site-packages\\sqlalchemy\\engine\\base.py:1788\u001b[0m, in \u001b[0;36mConnection._execute_context\u001b[1;34m(self, dialect, constructor, statement, parameters, execution_options, *args, **kw)\u001b[0m\n\u001b[0;32m   1787\u001b[0m     \u001b[39mif\u001b[39;00m \u001b[39mnot\u001b[39;00m evt_handled:\n\u001b[1;32m-> 1788\u001b[0m         \u001b[39mself\u001b[39;49m\u001b[39m.\u001b[39;49mdialect\u001b[39m.\u001b[39;49mdo_executemany(\n\u001b[0;32m   1789\u001b[0m             cursor, statement, parameters, context\n\u001b[0;32m   1790\u001b[0m         )\n\u001b[0;32m   1791\u001b[0m \u001b[39melif\u001b[39;00m \u001b[39mnot\u001b[39;00m parameters \u001b[39mand\u001b[39;00m context\u001b[39m.\u001b[39mno_parameters:\n",
      "File \u001b[1;32mc:\\Users\\badri\\anaconda3\\lib\\site-packages\\sqlalchemy\\dialects\\postgresql\\psycopg2.py:951\u001b[0m, in \u001b[0;36mPGDialect_psycopg2.do_executemany\u001b[1;34m(self, cursor, statement, parameters, context)\u001b[0m\n\u001b[0;32m    950\u001b[0m     xtras \u001b[39m=\u001b[39m \u001b[39mself\u001b[39m\u001b[39m.\u001b[39m_psycopg2_extras()\n\u001b[1;32m--> 951\u001b[0m     context\u001b[39m.\u001b[39m_psycopg2_fetched_rows \u001b[39m=\u001b[39m xtras\u001b[39m.\u001b[39mexecute_values(\n\u001b[0;32m    952\u001b[0m         cursor,\n\u001b[0;32m    953\u001b[0m         statement,\n\u001b[0;32m    954\u001b[0m         parameters,\n\u001b[0;32m    955\u001b[0m         template\u001b[39m=\u001b[39mexecutemany_values,\n\u001b[0;32m    956\u001b[0m         fetch\u001b[39m=\u001b[39m\u001b[39mbool\u001b[39m(context\u001b[39m.\u001b[39mcompiled\u001b[39m.\u001b[39mreturning),\n\u001b[0;32m    957\u001b[0m         \u001b[39m*\u001b[39m\u001b[39m*\u001b[39mkwargs\n\u001b[0;32m    958\u001b[0m     )\n\u001b[0;32m    960\u001b[0m \u001b[39melif\u001b[39;00m \u001b[39mself\u001b[39m\u001b[39m.\u001b[39mexecutemany_mode \u001b[39m&\u001b[39m EXECUTEMANY_BATCH:\n",
      "File \u001b[1;32mc:\\Users\\badri\\anaconda3\\lib\\site-packages\\psycopg2\\extras.py:1299\u001b[0m, in \u001b[0;36mexecute_values\u001b[1;34m(cur, sql, argslist, template, page_size, fetch)\u001b[0m\n\u001b[0;32m   1298\u001b[0m parts[\u001b[39m-\u001b[39m\u001b[39m1\u001b[39m:] \u001b[39m=\u001b[39m post\n\u001b[1;32m-> 1299\u001b[0m cur\u001b[39m.\u001b[39;49mexecute(\u001b[39mb\u001b[39;49m\u001b[39m'\u001b[39;49m\u001b[39m'\u001b[39;49m\u001b[39m.\u001b[39;49mjoin(parts))\n\u001b[0;32m   1300\u001b[0m \u001b[39mif\u001b[39;00m fetch:\n",
      "\u001b[1;31mUniqueViolation\u001b[0m: duplicate key value violates unique constraint \"year_2022_pkey\"\nDETAIL:  Key (country)=(Finland) already exists.\n",
      "\nThe above exception was the direct cause of the following exception:\n",
      "\u001b[1;31mIntegrityError\u001b[0m                            Traceback (most recent call last)",
      "\u001b[1;32mc:\\Users\\badri\\Project-3-World_Happiness\\Main_Python.ipynb Cell 27\u001b[0m in \u001b[0;36m<cell line: 1>\u001b[1;34m()\u001b[0m\n\u001b[1;32m----> <a href='vscode-notebook-cell:/c%3A/Users/badri/Project-3-World_Happiness/Main_Python.ipynb#X35sZmlsZQ%3D%3D?line=0'>1</a>\u001b[0m year_2022\u001b[39m.\u001b[39;49mto_sql(name\u001b[39m=\u001b[39;49m\u001b[39m\"\u001b[39;49m\u001b[39myear_2022\u001b[39;49m\u001b[39m\"\u001b[39;49m,con\u001b[39m=\u001b[39;49mengine,if_exists\u001b[39m=\u001b[39;49m\u001b[39m\"\u001b[39;49m\u001b[39mappend\u001b[39;49m\u001b[39m\"\u001b[39;49m, index\u001b[39m=\u001b[39;49m\u001b[39mFalse\u001b[39;49;00m)\n",
      "File \u001b[1;32mc:\\Users\\badri\\anaconda3\\lib\\site-packages\\pandas\\core\\generic.py:2951\u001b[0m, in \u001b[0;36mNDFrame.to_sql\u001b[1;34m(self, name, con, schema, if_exists, index, index_label, chunksize, dtype, method)\u001b[0m\n\u001b[0;32m   2794\u001b[0m \u001b[39m\"\"\"\u001b[39;00m\n\u001b[0;32m   2795\u001b[0m \u001b[39mWrite records stored in a DataFrame to a SQL database.\u001b[39;00m\n\u001b[0;32m   2796\u001b[0m \n\u001b[1;32m   (...)\u001b[0m\n\u001b[0;32m   2947\u001b[0m \u001b[39m[(1,), (None,), (2,)]\u001b[39;00m\n\u001b[0;32m   2948\u001b[0m \u001b[39m\"\"\"\u001b[39;00m  \u001b[39m# noqa:E501\u001b[39;00m\n\u001b[0;32m   2949\u001b[0m \u001b[39mfrom\u001b[39;00m \u001b[39mpandas\u001b[39;00m\u001b[39m.\u001b[39;00m\u001b[39mio\u001b[39;00m \u001b[39mimport\u001b[39;00m sql\n\u001b[1;32m-> 2951\u001b[0m \u001b[39mreturn\u001b[39;00m sql\u001b[39m.\u001b[39;49mto_sql(\n\u001b[0;32m   2952\u001b[0m     \u001b[39mself\u001b[39;49m,\n\u001b[0;32m   2953\u001b[0m     name,\n\u001b[0;32m   2954\u001b[0m     con,\n\u001b[0;32m   2955\u001b[0m     schema\u001b[39m=\u001b[39;49mschema,\n\u001b[0;32m   2956\u001b[0m     if_exists\u001b[39m=\u001b[39;49mif_exists,\n\u001b[0;32m   2957\u001b[0m     index\u001b[39m=\u001b[39;49mindex,\n\u001b[0;32m   2958\u001b[0m     index_label\u001b[39m=\u001b[39;49mindex_label,\n\u001b[0;32m   2959\u001b[0m     chunksize\u001b[39m=\u001b[39;49mchunksize,\n\u001b[0;32m   2960\u001b[0m     dtype\u001b[39m=\u001b[39;49mdtype,\n\u001b[0;32m   2961\u001b[0m     method\u001b[39m=\u001b[39;49mmethod,\n\u001b[0;32m   2962\u001b[0m )\n",
      "File \u001b[1;32mc:\\Users\\badri\\anaconda3\\lib\\site-packages\\pandas\\io\\sql.py:697\u001b[0m, in \u001b[0;36mto_sql\u001b[1;34m(frame, name, con, schema, if_exists, index, index_label, chunksize, dtype, method, engine, **engine_kwargs)\u001b[0m\n\u001b[0;32m    692\u001b[0m \u001b[39melif\u001b[39;00m \u001b[39mnot\u001b[39;00m \u001b[39misinstance\u001b[39m(frame, DataFrame):\n\u001b[0;32m    693\u001b[0m     \u001b[39mraise\u001b[39;00m \u001b[39mNotImplementedError\u001b[39;00m(\n\u001b[0;32m    694\u001b[0m         \u001b[39m\"\u001b[39m\u001b[39m'\u001b[39m\u001b[39mframe\u001b[39m\u001b[39m'\u001b[39m\u001b[39m argument should be either a Series or a DataFrame\u001b[39m\u001b[39m\"\u001b[39m\n\u001b[0;32m    695\u001b[0m     )\n\u001b[1;32m--> 697\u001b[0m \u001b[39mreturn\u001b[39;00m pandas_sql\u001b[39m.\u001b[39mto_sql(\n\u001b[0;32m    698\u001b[0m     frame,\n\u001b[0;32m    699\u001b[0m     name,\n\u001b[0;32m    700\u001b[0m     if_exists\u001b[39m=\u001b[39mif_exists,\n\u001b[0;32m    701\u001b[0m     index\u001b[39m=\u001b[39mindex,\n\u001b[0;32m    702\u001b[0m     index_label\u001b[39m=\u001b[39mindex_label,\n\u001b[0;32m    703\u001b[0m     schema\u001b[39m=\u001b[39mschema,\n\u001b[0;32m    704\u001b[0m     chunksize\u001b[39m=\u001b[39mchunksize,\n\u001b[0;32m    705\u001b[0m     dtype\u001b[39m=\u001b[39mdtype,\n\u001b[0;32m    706\u001b[0m     method\u001b[39m=\u001b[39mmethod,\n\u001b[0;32m    707\u001b[0m     engine\u001b[39m=\u001b[39mengine,\n\u001b[0;32m    708\u001b[0m     \u001b[39m*\u001b[39m\u001b[39m*\u001b[39mengine_kwargs,\n\u001b[0;32m    709\u001b[0m )\n",
      "File \u001b[1;32mc:\\Users\\badri\\anaconda3\\lib\\site-packages\\pandas\\io\\sql.py:1739\u001b[0m, in \u001b[0;36mSQLDatabase.to_sql\u001b[1;34m(self, frame, name, if_exists, index, index_label, schema, chunksize, dtype, method, engine, **engine_kwargs)\u001b[0m\n\u001b[0;32m   1727\u001b[0m sql_engine \u001b[39m=\u001b[39m get_engine(engine)\n\u001b[0;32m   1729\u001b[0m table \u001b[39m=\u001b[39m \u001b[39mself\u001b[39m\u001b[39m.\u001b[39mprep_table(\n\u001b[0;32m   1730\u001b[0m     frame\u001b[39m=\u001b[39mframe,\n\u001b[0;32m   1731\u001b[0m     name\u001b[39m=\u001b[39mname,\n\u001b[1;32m   (...)\u001b[0m\n\u001b[0;32m   1736\u001b[0m     dtype\u001b[39m=\u001b[39mdtype,\n\u001b[0;32m   1737\u001b[0m )\n\u001b[1;32m-> 1739\u001b[0m total_inserted \u001b[39m=\u001b[39m sql_engine\u001b[39m.\u001b[39minsert_records(\n\u001b[0;32m   1740\u001b[0m     table\u001b[39m=\u001b[39mtable,\n\u001b[0;32m   1741\u001b[0m     con\u001b[39m=\u001b[39m\u001b[39mself\u001b[39m\u001b[39m.\u001b[39mconnectable,\n\u001b[0;32m   1742\u001b[0m     frame\u001b[39m=\u001b[39mframe,\n\u001b[0;32m   1743\u001b[0m     name\u001b[39m=\u001b[39mname,\n\u001b[0;32m   1744\u001b[0m     index\u001b[39m=\u001b[39mindex,\n\u001b[0;32m   1745\u001b[0m     schema\u001b[39m=\u001b[39mschema,\n\u001b[0;32m   1746\u001b[0m     chunksize\u001b[39m=\u001b[39mchunksize,\n\u001b[0;32m   1747\u001b[0m     method\u001b[39m=\u001b[39mmethod,\n\u001b[0;32m   1748\u001b[0m     \u001b[39m*\u001b[39m\u001b[39m*\u001b[39mengine_kwargs,\n\u001b[0;32m   1749\u001b[0m )\n\u001b[0;32m   1751\u001b[0m \u001b[39mself\u001b[39m\u001b[39m.\u001b[39mcheck_case_sensitive(name\u001b[39m=\u001b[39mname, schema\u001b[39m=\u001b[39mschema)\n\u001b[0;32m   1752\u001b[0m \u001b[39mreturn\u001b[39;00m total_inserted\n",
      "File \u001b[1;32mc:\\Users\\badri\\anaconda3\\lib\\site-packages\\pandas\\io\\sql.py:1332\u001b[0m, in \u001b[0;36mSQLAlchemyEngine.insert_records\u001b[1;34m(self, table, con, frame, name, index, schema, chunksize, method, **engine_kwargs)\u001b[0m\n\u001b[0;32m   1330\u001b[0m     \u001b[39mraise\u001b[39;00m \u001b[39mValueError\u001b[39;00m(\u001b[39m\"\u001b[39m\u001b[39minf cannot be used with MySQL\u001b[39m\u001b[39m\"\u001b[39m) \u001b[39mfrom\u001b[39;00m \u001b[39merr\u001b[39;00m\n\u001b[0;32m   1331\u001b[0m \u001b[39melse\u001b[39;00m:\n\u001b[1;32m-> 1332\u001b[0m     \u001b[39mraise\u001b[39;00m err\n",
      "File \u001b[1;32mc:\\Users\\badri\\anaconda3\\lib\\site-packages\\pandas\\io\\sql.py:1322\u001b[0m, in \u001b[0;36mSQLAlchemyEngine.insert_records\u001b[1;34m(self, table, con, frame, name, index, schema, chunksize, method, **engine_kwargs)\u001b[0m\n\u001b[0;32m   1319\u001b[0m \u001b[39mfrom\u001b[39;00m \u001b[39msqlalchemy\u001b[39;00m \u001b[39mimport\u001b[39;00m exc\n\u001b[0;32m   1321\u001b[0m \u001b[39mtry\u001b[39;00m:\n\u001b[1;32m-> 1322\u001b[0m     \u001b[39mreturn\u001b[39;00m table\u001b[39m.\u001b[39;49minsert(chunksize\u001b[39m=\u001b[39;49mchunksize, method\u001b[39m=\u001b[39;49mmethod)\n\u001b[0;32m   1323\u001b[0m \u001b[39mexcept\u001b[39;00m exc\u001b[39m.\u001b[39mSQLAlchemyError \u001b[39mas\u001b[39;00m err:\n\u001b[0;32m   1324\u001b[0m     \u001b[39m# GH34431\u001b[39;00m\n\u001b[0;32m   1325\u001b[0m     \u001b[39m# https://stackoverflow.com/a/67358288/6067848\u001b[39;00m\n\u001b[0;32m   1326\u001b[0m     msg \u001b[39m=\u001b[39m \u001b[39mr\u001b[39m\u001b[39m\"\"\"\u001b[39m\u001b[39m(\u001b[39m\u001b[39m\\\u001b[39m\u001b[39m(1054, \u001b[39m\u001b[39m\"\u001b[39m\u001b[39mUnknown column \u001b[39m\u001b[39m'\u001b[39m\u001b[39minf(e0)?\u001b[39m\u001b[39m'\u001b[39m\u001b[39m in \u001b[39m\u001b[39m'\u001b[39m\u001b[39mfield list\u001b[39m\u001b[39m'\u001b[39m\u001b[39m\"\u001b[39m\u001b[39m\\\u001b[39m\u001b[39m))(?#\u001b[39m\n\u001b[0;32m   1327\u001b[0m \u001b[39m    )|inf can not be used with MySQL\u001b[39m\u001b[39m\"\"\"\u001b[39m\n",
      "File \u001b[1;32mc:\\Users\\badri\\anaconda3\\lib\\site-packages\\pandas\\io\\sql.py:950\u001b[0m, in \u001b[0;36mSQLTable.insert\u001b[1;34m(self, chunksize, method)\u001b[0m\n\u001b[0;32m    947\u001b[0m     \u001b[39mbreak\u001b[39;00m\n\u001b[0;32m    949\u001b[0m chunk_iter \u001b[39m=\u001b[39m \u001b[39mzip\u001b[39m(\u001b[39m*\u001b[39m(arr[start_i:end_i] \u001b[39mfor\u001b[39;00m arr \u001b[39min\u001b[39;00m data_list))\n\u001b[1;32m--> 950\u001b[0m num_inserted \u001b[39m=\u001b[39m exec_insert(conn, keys, chunk_iter)\n\u001b[0;32m    951\u001b[0m \u001b[39mif\u001b[39;00m num_inserted \u001b[39mis\u001b[39;00m \u001b[39mNone\u001b[39;00m:\n\u001b[0;32m    952\u001b[0m     total_inserted \u001b[39m=\u001b[39m \u001b[39mNone\u001b[39;00m\n",
      "File \u001b[1;32mc:\\Users\\badri\\anaconda3\\lib\\site-packages\\pandas\\io\\sql.py:857\u001b[0m, in \u001b[0;36mSQLTable._execute_insert\u001b[1;34m(self, conn, keys, data_iter)\u001b[0m\n\u001b[0;32m    845\u001b[0m \u001b[39m\"\"\"\u001b[39;00m\n\u001b[0;32m    846\u001b[0m \u001b[39mExecute SQL statement inserting data\u001b[39;00m\n\u001b[0;32m    847\u001b[0m \n\u001b[1;32m   (...)\u001b[0m\n\u001b[0;32m    854\u001b[0m \u001b[39m   Each item contains a list of values to be inserted\u001b[39;00m\n\u001b[0;32m    855\u001b[0m \u001b[39m\"\"\"\u001b[39;00m\n\u001b[0;32m    856\u001b[0m data \u001b[39m=\u001b[39m [\u001b[39mdict\u001b[39m(\u001b[39mzip\u001b[39m(keys, row)) \u001b[39mfor\u001b[39;00m row \u001b[39min\u001b[39;00m data_iter]\n\u001b[1;32m--> 857\u001b[0m result \u001b[39m=\u001b[39m conn\u001b[39m.\u001b[39;49mexecute(\u001b[39mself\u001b[39;49m\u001b[39m.\u001b[39;49mtable\u001b[39m.\u001b[39;49minsert(), data)\n\u001b[0;32m    858\u001b[0m \u001b[39mreturn\u001b[39;00m result\u001b[39m.\u001b[39mrowcount\n",
      "File \u001b[1;32mc:\\Users\\badri\\anaconda3\\lib\\site-packages\\sqlalchemy\\engine\\base.py:1295\u001b[0m, in \u001b[0;36mConnection.execute\u001b[1;34m(self, statement, *multiparams, **params)\u001b[0m\n\u001b[0;32m   1291\u001b[0m     util\u001b[39m.\u001b[39mraise_(\n\u001b[0;32m   1292\u001b[0m         exc\u001b[39m.\u001b[39mObjectNotExecutableError(statement), replace_context\u001b[39m=\u001b[39merr\n\u001b[0;32m   1293\u001b[0m     )\n\u001b[0;32m   1294\u001b[0m \u001b[39melse\u001b[39;00m:\n\u001b[1;32m-> 1295\u001b[0m     \u001b[39mreturn\u001b[39;00m meth(\u001b[39mself\u001b[39;49m, multiparams, params, _EMPTY_EXECUTION_OPTS)\n",
      "File \u001b[1;32mc:\\Users\\badri\\anaconda3\\lib\\site-packages\\sqlalchemy\\sql\\elements.py:325\u001b[0m, in \u001b[0;36mClauseElement._execute_on_connection\u001b[1;34m(self, connection, multiparams, params, execution_options, _force)\u001b[0m\n\u001b[0;32m    321\u001b[0m \u001b[39mdef\u001b[39;00m \u001b[39m_execute_on_connection\u001b[39m(\n\u001b[0;32m    322\u001b[0m     \u001b[39mself\u001b[39m, connection, multiparams, params, execution_options, _force\u001b[39m=\u001b[39m\u001b[39mFalse\u001b[39;00m\n\u001b[0;32m    323\u001b[0m ):\n\u001b[0;32m    324\u001b[0m     \u001b[39mif\u001b[39;00m _force \u001b[39mor\u001b[39;00m \u001b[39mself\u001b[39m\u001b[39m.\u001b[39msupports_execution:\n\u001b[1;32m--> 325\u001b[0m         \u001b[39mreturn\u001b[39;00m connection\u001b[39m.\u001b[39;49m_execute_clauseelement(\n\u001b[0;32m    326\u001b[0m             \u001b[39mself\u001b[39;49m, multiparams, params, execution_options\n\u001b[0;32m    327\u001b[0m         )\n\u001b[0;32m    328\u001b[0m     \u001b[39melse\u001b[39;00m:\n\u001b[0;32m    329\u001b[0m         \u001b[39mraise\u001b[39;00m exc\u001b[39m.\u001b[39mObjectNotExecutableError(\u001b[39mself\u001b[39m)\n",
      "File \u001b[1;32mc:\\Users\\badri\\anaconda3\\lib\\site-packages\\sqlalchemy\\engine\\base.py:1487\u001b[0m, in \u001b[0;36mConnection._execute_clauseelement\u001b[1;34m(self, elem, multiparams, params, execution_options)\u001b[0m\n\u001b[0;32m   1475\u001b[0m compiled_cache \u001b[39m=\u001b[39m execution_options\u001b[39m.\u001b[39mget(\n\u001b[0;32m   1476\u001b[0m     \u001b[39m\"\u001b[39m\u001b[39mcompiled_cache\u001b[39m\u001b[39m\"\u001b[39m, \u001b[39mself\u001b[39m\u001b[39m.\u001b[39mengine\u001b[39m.\u001b[39m_compiled_cache\n\u001b[0;32m   1477\u001b[0m )\n\u001b[0;32m   1479\u001b[0m compiled_sql, extracted_params, cache_hit \u001b[39m=\u001b[39m elem\u001b[39m.\u001b[39m_compile_w_cache(\n\u001b[0;32m   1480\u001b[0m     dialect\u001b[39m=\u001b[39mdialect,\n\u001b[0;32m   1481\u001b[0m     compiled_cache\u001b[39m=\u001b[39mcompiled_cache,\n\u001b[1;32m   (...)\u001b[0m\n\u001b[0;32m   1485\u001b[0m     linting\u001b[39m=\u001b[39m\u001b[39mself\u001b[39m\u001b[39m.\u001b[39mdialect\u001b[39m.\u001b[39mcompiler_linting \u001b[39m|\u001b[39m compiler\u001b[39m.\u001b[39mWARN_LINTING,\n\u001b[0;32m   1486\u001b[0m )\n\u001b[1;32m-> 1487\u001b[0m ret \u001b[39m=\u001b[39m \u001b[39mself\u001b[39;49m\u001b[39m.\u001b[39;49m_execute_context(\n\u001b[0;32m   1488\u001b[0m     dialect,\n\u001b[0;32m   1489\u001b[0m     dialect\u001b[39m.\u001b[39;49mexecution_ctx_cls\u001b[39m.\u001b[39;49m_init_compiled,\n\u001b[0;32m   1490\u001b[0m     compiled_sql,\n\u001b[0;32m   1491\u001b[0m     distilled_params,\n\u001b[0;32m   1492\u001b[0m     execution_options,\n\u001b[0;32m   1493\u001b[0m     compiled_sql,\n\u001b[0;32m   1494\u001b[0m     distilled_params,\n\u001b[0;32m   1495\u001b[0m     elem,\n\u001b[0;32m   1496\u001b[0m     extracted_params,\n\u001b[0;32m   1497\u001b[0m     cache_hit\u001b[39m=\u001b[39;49mcache_hit,\n\u001b[0;32m   1498\u001b[0m )\n\u001b[0;32m   1499\u001b[0m \u001b[39mif\u001b[39;00m has_events:\n\u001b[0;32m   1500\u001b[0m     \u001b[39mself\u001b[39m\u001b[39m.\u001b[39mdispatch\u001b[39m.\u001b[39mafter_execute(\n\u001b[0;32m   1501\u001b[0m         \u001b[39mself\u001b[39m,\n\u001b[0;32m   1502\u001b[0m         elem,\n\u001b[1;32m   (...)\u001b[0m\n\u001b[0;32m   1506\u001b[0m         ret,\n\u001b[0;32m   1507\u001b[0m     )\n",
      "File \u001b[1;32mc:\\Users\\badri\\anaconda3\\lib\\site-packages\\sqlalchemy\\engine\\base.py:1851\u001b[0m, in \u001b[0;36mConnection._execute_context\u001b[1;34m(self, dialect, constructor, statement, parameters, execution_options, *args, **kw)\u001b[0m\n\u001b[0;32m   1848\u001b[0m             branched\u001b[39m.\u001b[39mclose()\n\u001b[0;32m   1850\u001b[0m \u001b[39mexcept\u001b[39;00m \u001b[39mBaseException\u001b[39;00m \u001b[39mas\u001b[39;00m e:\n\u001b[1;32m-> 1851\u001b[0m     \u001b[39mself\u001b[39;49m\u001b[39m.\u001b[39;49m_handle_dbapi_exception(\n\u001b[0;32m   1852\u001b[0m         e, statement, parameters, cursor, context\n\u001b[0;32m   1853\u001b[0m     )\n\u001b[0;32m   1855\u001b[0m \u001b[39mreturn\u001b[39;00m result\n",
      "File \u001b[1;32mc:\\Users\\badri\\anaconda3\\lib\\site-packages\\sqlalchemy\\engine\\base.py:2032\u001b[0m, in \u001b[0;36mConnection._handle_dbapi_exception\u001b[1;34m(self, e, statement, parameters, cursor, context)\u001b[0m\n\u001b[0;32m   2030\u001b[0m     util\u001b[39m.\u001b[39mraise_(newraise, with_traceback\u001b[39m=\u001b[39mexc_info[\u001b[39m2\u001b[39m], from_\u001b[39m=\u001b[39me)\n\u001b[0;32m   2031\u001b[0m \u001b[39melif\u001b[39;00m should_wrap:\n\u001b[1;32m-> 2032\u001b[0m     util\u001b[39m.\u001b[39;49mraise_(\n\u001b[0;32m   2033\u001b[0m         sqlalchemy_exception, with_traceback\u001b[39m=\u001b[39;49mexc_info[\u001b[39m2\u001b[39;49m], from_\u001b[39m=\u001b[39;49me\n\u001b[0;32m   2034\u001b[0m     )\n\u001b[0;32m   2035\u001b[0m \u001b[39melse\u001b[39;00m:\n\u001b[0;32m   2036\u001b[0m     util\u001b[39m.\u001b[39mraise_(exc_info[\u001b[39m1\u001b[39m], with_traceback\u001b[39m=\u001b[39mexc_info[\u001b[39m2\u001b[39m])\n",
      "File \u001b[1;32mc:\\Users\\badri\\anaconda3\\lib\\site-packages\\sqlalchemy\\util\\compat.py:207\u001b[0m, in \u001b[0;36mraise_\u001b[1;34m(***failed resolving arguments***)\u001b[0m\n\u001b[0;32m    204\u001b[0m     exception\u001b[39m.\u001b[39m__cause__ \u001b[39m=\u001b[39m replace_context\n\u001b[0;32m    206\u001b[0m \u001b[39mtry\u001b[39;00m:\n\u001b[1;32m--> 207\u001b[0m     \u001b[39mraise\u001b[39;00m exception\n\u001b[0;32m    208\u001b[0m \u001b[39mfinally\u001b[39;00m:\n\u001b[0;32m    209\u001b[0m     \u001b[39m# credit to\u001b[39;00m\n\u001b[0;32m    210\u001b[0m     \u001b[39m# https://cosmicpercolator.com/2016/01/13/exception-leaks-in-python-2-and-3/\u001b[39;00m\n\u001b[0;32m    211\u001b[0m     \u001b[39m# as the __traceback__ object creates a cycle\u001b[39;00m\n\u001b[0;32m    212\u001b[0m     \u001b[39mdel\u001b[39;00m exception, replace_context, from_, with_traceback\n",
      "File \u001b[1;32mc:\\Users\\badri\\anaconda3\\lib\\site-packages\\sqlalchemy\\engine\\base.py:1788\u001b[0m, in \u001b[0;36mConnection._execute_context\u001b[1;34m(self, dialect, constructor, statement, parameters, execution_options, *args, **kw)\u001b[0m\n\u001b[0;32m   1786\u001b[0m                 \u001b[39mbreak\u001b[39;00m\n\u001b[0;32m   1787\u001b[0m     \u001b[39mif\u001b[39;00m \u001b[39mnot\u001b[39;00m evt_handled:\n\u001b[1;32m-> 1788\u001b[0m         \u001b[39mself\u001b[39;49m\u001b[39m.\u001b[39;49mdialect\u001b[39m.\u001b[39;49mdo_executemany(\n\u001b[0;32m   1789\u001b[0m             cursor, statement, parameters, context\n\u001b[0;32m   1790\u001b[0m         )\n\u001b[0;32m   1791\u001b[0m \u001b[39melif\u001b[39;00m \u001b[39mnot\u001b[39;00m parameters \u001b[39mand\u001b[39;00m context\u001b[39m.\u001b[39mno_parameters:\n\u001b[0;32m   1792\u001b[0m     \u001b[39mif\u001b[39;00m \u001b[39mself\u001b[39m\u001b[39m.\u001b[39mdialect\u001b[39m.\u001b[39m_has_events:\n",
      "File \u001b[1;32mc:\\Users\\badri\\anaconda3\\lib\\site-packages\\sqlalchemy\\dialects\\postgresql\\psycopg2.py:951\u001b[0m, in \u001b[0;36mPGDialect_psycopg2.do_executemany\u001b[1;34m(self, cursor, statement, parameters, context)\u001b[0m\n\u001b[0;32m    949\u001b[0m         kwargs \u001b[39m=\u001b[39m {}\n\u001b[0;32m    950\u001b[0m     xtras \u001b[39m=\u001b[39m \u001b[39mself\u001b[39m\u001b[39m.\u001b[39m_psycopg2_extras()\n\u001b[1;32m--> 951\u001b[0m     context\u001b[39m.\u001b[39m_psycopg2_fetched_rows \u001b[39m=\u001b[39m xtras\u001b[39m.\u001b[39mexecute_values(\n\u001b[0;32m    952\u001b[0m         cursor,\n\u001b[0;32m    953\u001b[0m         statement,\n\u001b[0;32m    954\u001b[0m         parameters,\n\u001b[0;32m    955\u001b[0m         template\u001b[39m=\u001b[39mexecutemany_values,\n\u001b[0;32m    956\u001b[0m         fetch\u001b[39m=\u001b[39m\u001b[39mbool\u001b[39m(context\u001b[39m.\u001b[39mcompiled\u001b[39m.\u001b[39mreturning),\n\u001b[0;32m    957\u001b[0m         \u001b[39m*\u001b[39m\u001b[39m*\u001b[39mkwargs\n\u001b[0;32m    958\u001b[0m     )\n\u001b[0;32m    960\u001b[0m \u001b[39melif\u001b[39;00m \u001b[39mself\u001b[39m\u001b[39m.\u001b[39mexecutemany_mode \u001b[39m&\u001b[39m EXECUTEMANY_BATCH:\n\u001b[0;32m    961\u001b[0m     \u001b[39mif\u001b[39;00m \u001b[39mself\u001b[39m\u001b[39m.\u001b[39mexecutemany_batch_page_size:\n",
      "File \u001b[1;32mc:\\Users\\badri\\anaconda3\\lib\\site-packages\\psycopg2\\extras.py:1299\u001b[0m, in \u001b[0;36mexecute_values\u001b[1;34m(cur, sql, argslist, template, page_size, fetch)\u001b[0m\n\u001b[0;32m   1297\u001b[0m     parts\u001b[39m.\u001b[39mappend(\u001b[39mb\u001b[39m\u001b[39m'\u001b[39m\u001b[39m,\u001b[39m\u001b[39m'\u001b[39m)\n\u001b[0;32m   1298\u001b[0m parts[\u001b[39m-\u001b[39m\u001b[39m1\u001b[39m:] \u001b[39m=\u001b[39m post\n\u001b[1;32m-> 1299\u001b[0m cur\u001b[39m.\u001b[39;49mexecute(\u001b[39mb\u001b[39;49m\u001b[39m'\u001b[39;49m\u001b[39m'\u001b[39;49m\u001b[39m.\u001b[39;49mjoin(parts))\n\u001b[0;32m   1300\u001b[0m \u001b[39mif\u001b[39;00m fetch:\n\u001b[0;32m   1301\u001b[0m     result\u001b[39m.\u001b[39mextend(cur\u001b[39m.\u001b[39mfetchall())\n",
      "\u001b[1;31mIntegrityError\u001b[0m: (psycopg2.errors.UniqueViolation) duplicate key value violates unique constraint \"year_2022_pkey\"\nDETAIL:  Key (country)=(Finland) already exists.\n\n[SQL: INSERT INTO year_2022 (country, happiness_score2022, gpd_per_capita2022, social_support2022, healthy_life_expectancy2022, freedom_to_make_life_choices2022) VALUES (%(country)s, %(happiness_score2022)s, %(gpd_per_capita2022)s, %(social_support2022)s, %(healthy_life_expectancy2022)s, %(freedom_to_make_life_choices2022)s)]\n[parameters: ({'country': 'Finland', 'happiness_score2022': 7.82, 'gpd_per_capita2022': '1.89', 'social_support2022': '1.26', 'healthy_life_expectancy2022': '0.775', 'freedom_to_make_life_choices2022': '0.736'}, {'country': 'Denmark', 'happiness_score2022': 7.64, 'gpd_per_capita2022': '1.95', 'social_support2022': '1.24', 'healthy_life_expectancy2022': '0.777', 'freedom_to_make_life_choices2022': '0.719'}, {'country': 'Iceland', 'happiness_score2022': 7.56, 'gpd_per_capita2022': '1.94', 'social_support2022': '1.32', 'healthy_life_expectancy2022': '0.803', 'freedom_to_make_life_choices2022': '0.718'}, {'country': 'Switzerland', 'happiness_score2022': 7.51, 'gpd_per_capita2022': '2.03', 'social_support2022': '1.23', 'healthy_life_expectancy2022': '0.822', 'freedom_to_make_life_choices2022': '0.677'}, {'country': 'Netherlands', 'happiness_score2022': 7.42, 'gpd_per_capita2022': '1.95', 'social_support2022': '1.21', 'healthy_life_expectancy2022': '0.787', 'freedom_to_make_life_choices2022': '0.651'}, {'country': 'Luxembourg*', 'happiness_score2022': 7.4, 'gpd_per_capita2022': '2.21', 'social_support2022': '1.16', 'healthy_life_expectancy2022': '0.790', 'freedom_to_make_life_choices2022': '0.700'}, {'country': 'Sweden', 'happiness_score2022': 7.38, 'gpd_per_capita2022': '1.92', 'social_support2022': '1.20', 'healthy_life_expectancy2022': '0.803', 'freedom_to_make_life_choices2022': '0.724'}, {'country': 'Norway', 'happiness_score2022': 7.37, 'gpd_per_capita2022': '2.00', 'social_support2022': '1.24', 'healthy_life_expectancy2022': '0.786', 'freedom_to_make_life_choices2022': '0.728'}  ... displaying 10 of 146 total bound parameter sets ...  {'country': 'Lebanon', 'happiness_score2022': 2.96, 'gpd_per_capita2022': '1.39', 'social_support2022': '0.498', 'healthy_life_expectancy2022': '0.631', 'freedom_to_make_life_choices2022': '0.103'}, {'country': 'Afghanistan', 'happiness_score2022': 2.4, 'gpd_per_capita2022': '0.758', 'social_support2022': '0.000', 'healthy_life_expectancy2022': '0.289', 'freedom_to_make_life_choices2022': '0.000'})]\n(Background on this error at: https://sqlalche.me/e/14/gkpj)"
     ]
    }
   ],
   "source": [
    "year_2022.to_sql(name=\"year_2022\",con=engine,if_exists=\"append\", index=False)"
   ]
  },
  {
   "cell_type": "code",
   "execution_count": null,
   "id": "f1660413",
   "metadata": {},
   "outputs": [
    {
     "data": {
      "text/plain": [
       "149"
      ]
     },
     "execution_count": 18,
     "metadata": {},
     "output_type": "execute_result"
    }
   ],
   "source": [
    "year_2021.to_sql(name=\"year_2021\",con=engine,if_exists=\"append\", index=False)"
   ]
  },
  {
   "cell_type": "code",
   "execution_count": null,
   "id": "2faf40c3",
   "metadata": {},
   "outputs": [
    {
     "data": {
      "text/plain": [
       "153"
      ]
     },
     "execution_count": 19,
     "metadata": {},
     "output_type": "execute_result"
    }
   ],
   "source": [
    "year_2020.to_sql(name=\"year_2020\",con=engine,if_exists=\"append\", index=False)"
   ]
  },
  {
   "cell_type": "code",
   "execution_count": null,
   "id": "5e6ef262",
   "metadata": {},
   "outputs": [
    {
     "data": {
      "text/plain": [
       "156"
      ]
     },
     "execution_count": 20,
     "metadata": {},
     "output_type": "execute_result"
    }
   ],
   "source": [
    "year_2019.to_sql(name=\"year_2019\",con=engine,if_exists=\"append\", index=False)"
   ]
  },
  {
   "cell_type": "code",
   "execution_count": 20,
   "id": "ad5ee581",
   "metadata": {},
   "outputs": [
    {
     "data": {
      "text/plain": [
       "244"
      ]
     },
     "execution_count": 20,
     "metadata": {},
     "output_type": "execute_result"
    }
   ],
   "source": [
    "coordinates.to_sql(name=\"coordinates\",con=engine,if_exists=\"append\", index=False)"
   ]
  },
  {
   "cell_type": "code",
   "execution_count": null,
   "id": "5fc32850",
   "metadata": {},
   "outputs": [],
   "source": []
  },
  {
   "cell_type": "code",
   "execution_count": null,
   "id": "8d393b9f",
   "metadata": {},
   "outputs": [],
   "source": []
  }
 ],
 "metadata": {
  "kernelspec": {
   "display_name": "base",
   "language": "python",
   "name": "python3"
  },
  "language_info": {
   "codemirror_mode": {
    "name": "ipython",
    "version": 3
   },
   "file_extension": ".py",
   "mimetype": "text/x-python",
   "name": "python",
   "nbconvert_exporter": "python",
   "pygments_lexer": "ipython3",
   "version": "3.9.12"
  },
  "vscode": {
   "interpreter": {
    "hash": "07b261e4bb22682e44993513281a1802f582824f417ac2f2d13a5736398a1bd5"
   }
  }
 },
 "nbformat": 4,
 "nbformat_minor": 5
}
